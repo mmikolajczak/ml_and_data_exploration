{
 "cells": [
  {
   "cell_type": "code",
   "execution_count": 1,
   "metadata": {
    "collapsed": true
   },
   "outputs": [],
   "source": [
    "# Attempt to claasify hand-written digits from well-known MNIST data.\n",
    "# Of course we first need to load and familiarize with data.\n",
    "# Note: MNIST data is quite popular and available from many sources, pesonally I got it (together with\n",
    "# data description) from Kaggle.\n",
    "#\n",
    "# From data description:\n",
    "#\n",
    "# Each image is 28 pixels in height and 28 pixels in width, for a total of 784 pixels in total. \n",
    "# Each pixel has a single pixel-value associated with it, indicating the lightness or darkness of that pixel, \n",
    "# with higher numbers meaning darker. This pixel-value is an integer between 0 and 255, inclusive.\n",
    "#\n",
    "# The training data set, (train.csv), has 785 columns. The first column, called \"label\", is the digit that was drawn\n",
    "# by the user. The rest of the columns contain the pixel-values of the associated image.\n",
    "#\n",
    "# Each pixel column in the training set has a name like pixelx, where x is an integer between 0 and 783, inclusive. \n",
    "# To locate this pixel on the image, suppose that we have decomposed x as x = i * 28 + j, where i and j are integers\n",
    "# between 0 and 27, inclusive. Then pixelx is located on row i and column j of a 28 x 28 matrix, (indexing by zero).\n",
    "#\n",
    "# The test data set, (test.csv), is the same as the training set, except that it does not contain the \"label\" column.\n",
    "#\n",
    "# Work schedule:\n",
    "# * Loading/preparing data\n",
    "# * Attempt to classification using SVM\n",
    "# * Another try to classification - using neural network (possibly own implementation)\n",
    "#   to compare results."
   ]
  },
  {
   "cell_type": "code",
   "execution_count": 2,
   "metadata": {
    "collapsed": true
   },
   "outputs": [],
   "source": [
    "# Modules import\n",
    "import pandas as pd\n",
    "import numpy as np\n",
    "import matplotlib.pyplot as plt"
   ]
  },
  {
   "cell_type": "code",
   "execution_count": 3,
   "metadata": {
    "collapsed": true
   },
   "outputs": [],
   "source": [
    "# Loading data\n",
    "train_set_path = 'input/train.csv'\n",
    "test_set_path = 'input/test.csv'\n",
    "\n",
    "train_data = pd.read_csv(train_set_path)\n",
    "test_data = pd.read_csv(test_set_path)"
   ]
  },
  {
   "cell_type": "code",
   "execution_count": 4,
   "metadata": {
    "collapsed": false
   },
   "outputs": [
    {
     "data": {
      "text/plain": [
       "True"
      ]
     },
     "execution_count": 4,
     "metadata": {},
     "output_type": "execute_result"
    }
   ],
   "source": [
    "# Let's chceck if there is any missing data\n",
    "# In standard cases I would use info method but since we have above 780\n",
    "# columns let's check it another way\n",
    "len(train_data) == len(train_data.dropna(axis=0, how='any'))"
   ]
  },
  {
   "cell_type": "code",
   "execution_count": 5,
   "metadata": {
    "collapsed": false
   },
   "outputs": [],
   "source": [
    "# Looking good, there are no nulls in data.\n",
    "# Before classification attempts we need to transform dataframe into\n",
    "# numpy array.\n",
    "train_labels = train_data['label'].values\n",
    "train_data = train_data.drop('label', axis=1).values"
   ]
  },
  {
   "cell_type": "code",
   "execution_count": null,
   "metadata": {
    "collapsed": false
   },
   "outputs": [],
   "source": [
    "# Let's take a look at actual digit\n",
    "plt.imshow(train_data[1].reshape(28, -1), cmap='gray')\n",
    "plt.show()"
   ]
  },
  {
   "cell_type": "code",
   "execution_count": null,
   "metadata": {
    "collapsed": true
   },
   "outputs": [],
   "source": [
    "# Color inversion - just for eventual digits showing purposes\n",
    "# train_data = 255 - train_data\n",
    "# test_data = 255 - test_data"
   ]
  },
  {
   "cell_type": "code",
   "execution_count": 6,
   "metadata": {
    "collapsed": true
   },
   "outputs": [],
   "source": [
    "# Anyway, we were able to actually reproduce image from data and we no missing\n",
    "# data in set so let's move to the actual predicting.\n",
    "from sklearn.svm import SVC\n",
    "from sklearn.model_selection import train_test_split"
   ]
  },
  {
   "cell_type": "code",
   "execution_count": 7,
   "metadata": {
    "collapsed": false
   },
   "outputs": [],
   "source": [
    "# But first we need a little data split for model evaluation purposes\n",
    "X_train, X_test, y_train, y_test = train_test_split(train_data, train_labels, test_size=0.17, random_state=0)"
   ]
  },
  {
   "cell_type": "code",
   "execution_count": 8,
   "metadata": {
    "collapsed": false
   },
   "outputs": [
    {
     "data": {
      "text/plain": [
       "SVC(C=1.0, cache_size=200, class_weight=None, coef0=0.0,\n",
       "  decision_function_shape=None, degree=3, gamma='auto', kernel='rbf',\n",
       "  max_iter=-1, probability=False, random_state=None, shrinking=True,\n",
       "  tol=0.001, verbose=False)"
      ]
     },
     "execution_count": 8,
     "metadata": {},
     "output_type": "execute_result"
    }
   ],
   "source": [
    "# Training classifier\n",
    "classifier = SVC(kernel='rbf')\n",
    "classifier.fit(X_train, y_train)"
   ]
  },
  {
   "cell_type": "code",
   "execution_count": 9,
   "metadata": {
    "collapsed": false
   },
   "outputs": [
    {
     "data": {
      "text/plain": [
       "0.11300938243943426"
      ]
     },
     "execution_count": 9,
     "metadata": {},
     "output_type": "execute_result"
    }
   ],
   "source": [
    "# Let's see how our model will work on new data\n",
    "classifier.score(X_test, y_test)"
   ]
  },
  {
   "cell_type": "code",
   "execution_count": 10,
   "metadata": {
    "collapsed": true
   },
   "outputs": [],
   "source": [
    "# Well, the result is rather bad, not to say terrible.\n",
    "# The reason probly is to low data amount for used value range (0 - 255).\n",
    "# Let's try to use classifier with a binarized data.\n",
    "train_data[train_data > 0] = 1\n",
    "test_data[test_data > 0] = 1\n",
    "\n",
    "X_train, X_test, y_train, y_test = train_test_split(train_data, train_labels, test_size=0.17, random_state=0)"
   ]
  },
  {
   "cell_type": "code",
   "execution_count": 11,
   "metadata": {
    "collapsed": false
   },
   "outputs": [
    {
     "data": {
      "image/png": "[encoded data removed]",
      "text/plain": [
       "<matplotlib.figure.Figure at 0x1fc9070cd68>"
      ]
     },
     "metadata": {},
     "output_type": "display_data"
    }
   ],
   "source": [
    "# Quick binarization correctness check\n",
    "plt.imshow(train_data[1].reshape(28, -1), cmap='binary') \n",
    "# Note: with binary cmap colors are reversed to the ones that we had earlier \n",
    "plt.show()"
   ]
  },
  {
   "cell_type": "code",
   "execution_count": 12,
   "metadata": {
    "collapsed": false
   },
   "outputs": [
    {
     "data": {
      "text/plain": [
       "SVC(C=1.0, cache_size=200, class_weight=None, coef0=0.0,\n",
       "  decision_function_shape=None, degree=3, gamma='auto', kernel='rbf',\n",
       "  max_iter=-1, probability=False, random_state=None, shrinking=True,\n",
       "  tol=0.001, verbose=False)"
      ]
     },
     "execution_count": 12,
     "metadata": {},
     "output_type": "execute_result"
    }
   ],
   "source": [
    "# Ok, now that is data is completly binarized let's retrain our classifier\n",
    "classifier = SVC(kernel='rbf')\n",
    "classifier.fit(X_train, y_train)"
   ]
  },
  {
   "cell_type": "code",
   "execution_count": 13,
   "metadata": {
    "collapsed": false
   },
   "outputs": [
    {
     "data": {
      "text/plain": [
       "0.94272510852821734"
      ]
     },
     "execution_count": 13,
     "metadata": {},
     "output_type": "execute_result"
    }
   ],
   "source": [
    "classifier.score(X_test, y_test)"
   ]
  },
  {
   "cell_type": "code",
   "execution_count": null,
   "metadata": {
    "collapsed": true
   },
   "outputs": [],
   "source": [
    "# Well results are definitely better - over 94% is rather nice result.\n",
    "# But in this task neural networks tends to achieve even better results.\n",
    "# Instead one implementing one from scratch we will use Keras (user friendly library\n",
    "# for neural networks). Note that tensorflow backend was used, in case of Theano there\n",
    "# may be some problems with code."
   ]
  },
  {
   "cell_type": "code",
   "execution_count": 14,
   "metadata": {
    "collapsed": false
   },
   "outputs": [
    {
     "name": "stderr",
     "output_type": "stream",
     "text": [
      "Using TensorFlow backend.\n"
     ]
    }
   ],
   "source": [
    "# That being said, let's start with part 2 - neural networks attempt:\n",
    "import numpy as np\n",
    "import matplotlib.pyplot as plt\n",
    "from sklearn.model_selection import train_test_split\n",
    "from sklearn.metrics import confusion_matrix\n",
    "from keras.utils.np_utils import to_categorical # keras one-hot-encoding\n",
    "from keras.models import Sequential\n",
    "from keras.layers import Dense, Dropout, Flatten, Conv2D, MaxPool2D, BatchNormalization\n",
    "from keras.optimizers import Adam\n",
    "from keras.preprocessing.image import ImageDataGenerator"
   ]
  },
  {
   "cell_type": "code",
   "execution_count": 15,
   "metadata": {
    "collapsed": true
   },
   "outputs": [],
   "source": [
    "# Data sources paths\n",
    "train_file = \"input/train.csv\"\n",
    "test_file = \"input/test.csv\""
   ]
  },
  {
   "cell_type": "code",
   "execution_count": 16,
   "metadata": {
    "collapsed": true
   },
   "outputs": [],
   "source": [
    "# Loading data and split into train/validation set\n",
    "train_data = np.loadtxt(train_file, skiprows=1, dtype='int', delimiter=',')\n",
    "X_train, X_validate, y_train, y_validate = train_test_split(\n",
    "    train_data[:, 1:], train_data[:, 0], test_size=0.1)"
   ]
  },
  {
   "cell_type": "code",
   "execution_count": 17,
   "metadata": {
    "collapsed": true
   },
   "outputs": [],
   "source": [
    "# Reshaping data - note that we will use pixel surroundings for features detection,\n",
    "# and special last dimension (for number of channels, required by keras.\n",
    "X_train = X_train.reshape(-1, 28, 28, 1)\n",
    "X_validate = X_validate.reshape(-1, 28, 28, 1)"
   ]
  },
  {
   "cell_type": "code",
   "execution_count": 18,
   "metadata": {
    "collapsed": true
   },
   "outputs": [],
   "source": [
    "# Data standarization, will make net converge faster\n",
    "X_train = X_train.astype(\"float32\") / 255.\n",
    "X_validate = X_validate.astype(\"float32\") / 255."
   ]
  },
  {
   "cell_type": "code",
   "execution_count": 19,
   "metadata": {
    "collapsed": true
   },
   "outputs": [],
   "source": [
    "# One hot encoding of results\n",
    "y_train = to_categorical(y_train)\n",
    "y_validate = to_categorical(y_validate)"
   ]
  },
  {
   "cell_type": "code",
   "execution_count": 20,
   "metadata": {
    "collapsed": false
   },
   "outputs": [
    {
     "name": "stdout",
     "output_type": "stream",
     "text": [
      "[ 0.  0.  0.  0.  0.  1.  0.  0.  0.  0.]\n"
     ]
    }
   ],
   "source": [
    "# Sample after encoding\n",
    "print(y_train[0])"
   ]
  },
  {
   "cell_type": "code",
   "execution_count": 21,
   "metadata": {
    "collapsed": true
   },
   "outputs": [],
   "source": [
    "# Start of model creation\n",
    "# Model description:\n",
    "# Model is sequential, we place on layer at a time.\n",
    "# Conv2D - convolutional layers (most important part of our network),\n",
    "# we have 16-32 filters that use nine (look up kernel size) weights each to transform a pixel\n",
    "# to a weighted average of itself and its eight neighbors.\n",
    "# The same nine weights are used over the whole image - so the net will pick up features that are useful everywhere.\n",
    "# Additionaly, with that size of kernel, we can stack many convolutional layers on top of each other without\n",
    "# running out of memory/time.\n",
    "# MaxPooling layers just look at four neighboring pixels and picks the maximal value.\n",
    "# This reduces the size of the image (by half), and by combining convolutional and pooling layers,\n",
    "# the net be able to combine its features to learn more global features of the image.\n",
    "# In the end features are used in two fully-connected (Dense) layers.\n",
    "# Batch Normalization is a technical trick to make training faster.\n",
    "# Dropout is a regularization method, where the layer randomly replaces a proportion of its weights\n",
    "# to zero for each training sample. This forces the net to learn features in a distributed way,\n",
    "# not relying to much on a particular weight, and therefore improves generalization.\n",
    "# 'relu' is the activation function x -> max(x,0)."
   ]
  },
  {
   "cell_type": "code",
   "execution_count": 22,
   "metadata": {
    "collapsed": true
   },
   "outputs": [],
   "source": [
    "model = Sequential()"
   ]
  },
  {
   "cell_type": "code",
   "execution_count": 23,
   "metadata": {
    "collapsed": true
   },
   "outputs": [],
   "source": [
    "model.add(Conv2D(filters=16, kernel_size=(3, 3), activation='relu',\n",
    "                 input_shape=(28, 28, 1)))\n",
    "model.add(BatchNormalization())\n",
    "model.add(Conv2D(filters=16, kernel_size=(3, 3), activation='relu'))\n",
    "model.add(MaxPool2D(strides=(2, 2)))\n",
    "model.add(BatchNormalization())\n",
    "model.add(Dropout(0.25))"
   ]
  },
  {
   "cell_type": "code",
   "execution_count": 24,
   "metadata": {
    "collapsed": true
   },
   "outputs": [],
   "source": [
    "model.add(Conv2D(filters=32, kernel_size=(3, 3), activation='relu'))\n",
    "model.add(BatchNormalization())\n",
    "model.add(Conv2D(filters=32, kernel_size=(3, 3), activation='relu'))\n",
    "model.add(MaxPool2D(strides=(2, 2)))\n",
    "model.add(BatchNormalization())\n",
    "model.add(Dropout(0.25))"
   ]
  },
  {
   "cell_type": "code",
   "execution_count": 25,
   "metadata": {
    "collapsed": true
   },
   "outputs": [],
   "source": [
    "model.add(Flatten())\n",
    "model.add(Dense(512, activation='relu'))\n",
    "model.add(Dropout(0.25))\n",
    "model.add(Dense(1024, activation='relu'))\n",
    "model.add(Dropout(0.5))\n",
    "model.add(Dense(10, activation='softmax'))"
   ]
  },
  {
   "cell_type": "code",
   "execution_count": 27,
   "metadata": {
    "collapsed": true
   },
   "outputs": [],
   "source": [
    "# Another important method to improve generalization is augmentation.\n",
    "# This means generating more training data by randomly perturbing the images.\n",
    "# If done in the right way, it can force the net to only learn translation-invariant features.\n",
    "# When training model with over hundreds of epochs, augmentation will definitely improve performance.\n",
    "data_generator = ImageDataGenerator(zoom_range=0.1,\n",
    "                            height_shift_range=0.1,\n",
    "                            width_shift_range=0.1,\n",
    "                            rotation_range=10)"
   ]
  },
  {
   "cell_type": "code",
   "execution_count": 28,
   "metadata": {
    "collapsed": true
   },
   "outputs": [],
   "source": [
    "# Model compilation needs to be done before any learning\n",
    "# loss - specification of used cost/lost function\n",
    "# optimizer - as the name says, most popular is SGD, Adam works similar but is faster\n",
    "# metrics - for evaluation purposes\n",
    "model.compile(loss='categorical_crossentropy', optimizer=Adam(lr=3e-5), metrics=[\"accuracy\"])"
   ]
  },
  {
   "cell_type": "code",
   "execution_count": 29,
   "metadata": {
    "collapsed": true
   },
   "outputs": [],
   "source": [
    "# First, train once with a smaller learning rate to ensure convergence\n",
    "hist = model.fit_generator(data_generator.flow(X_train, y_train, batch_size=16),\n",
    "                           steps_per_epoch=1000,\n",
    "                           epochs=1, verbose=0)"
   ]
  },
  {
   "cell_type": "code",
   "execution_count": 30,
   "metadata": {
    "collapsed": false
   },
   "outputs": [
    {
     "name": "stdout",
     "output_type": "stream",
     "text": [
      "Epoch 1/20\n",
      "51s - loss: 0.5987 - acc: 0.8013 - val_loss: 0.0961 - val_acc: 0.9660\n",
      "Epoch 2/20\n",
      "49s - loss: 0.2671 - acc: 0.9163 - val_loss: 0.0815 - val_acc: 0.9712\n",
      "Epoch 3/20\n",
      "48s - loss: 0.2035 - acc: 0.9376 - val_loss: 0.0562 - val_acc: 0.9814\n",
      "Epoch 4/20\n",
      "50s - loss: 0.1675 - acc: 0.9474 - val_loss: 0.0427 - val_acc: 0.9869\n",
      "Epoch 5/20\n",
      "48s - loss: 0.1525 - acc: 0.9540 - val_loss: 0.0502 - val_acc: 0.9838\n",
      "Epoch 6/20\n",
      "48s - loss: 0.1416 - acc: 0.9581 - val_loss: 0.0398 - val_acc: 0.9883\n",
      "Epoch 7/20\n",
      "48s - loss: 0.1375 - acc: 0.9590 - val_loss: 0.0333 - val_acc: 0.9871\n",
      "Epoch 8/20\n",
      "47s - loss: 0.1249 - acc: 0.9619 - val_loss: 0.0288 - val_acc: 0.9900\n",
      "Epoch 9/20\n",
      "47s - loss: 0.1187 - acc: 0.9659 - val_loss: 0.0343 - val_acc: 0.9869\n",
      "Epoch 10/20\n",
      "49s - loss: 0.1064 - acc: 0.9667 - val_loss: 0.0357 - val_acc: 0.9867\n",
      "Epoch 11/20\n",
      "47s - loss: 0.1046 - acc: 0.9692 - val_loss: 0.0401 - val_acc: 0.9857\n",
      "Epoch 12/20\n",
      "47s - loss: 0.1016 - acc: 0.9696 - val_loss: 0.0282 - val_acc: 0.9905\n",
      "Epoch 13/20\n",
      "48s - loss: 0.1060 - acc: 0.9693 - val_loss: 0.0323 - val_acc: 0.9905\n",
      "Epoch 14/20\n",
      "48s - loss: 0.0909 - acc: 0.9734 - val_loss: 0.0224 - val_acc: 0.9938\n",
      "Epoch 15/20\n",
      "48s - loss: 0.0960 - acc: 0.9729 - val_loss: 0.0261 - val_acc: 0.9902\n",
      "Epoch 16/20\n",
      "48s - loss: 0.0917 - acc: 0.9722 - val_loss: 0.0370 - val_acc: 0.9890\n",
      "Epoch 17/20\n",
      "48s - loss: 0.0857 - acc: 0.9735 - val_loss: 0.0231 - val_acc: 0.9929\n",
      "Epoch 18/20\n",
      "49s - loss: 0.0830 - acc: 0.9748 - val_loss: 0.0274 - val_acc: 0.9910\n",
      "Epoch 19/20\n",
      "48s - loss: 0.0948 - acc: 0.9724 - val_loss: 0.0222 - val_acc: 0.9926\n",
      "Epoch 20/20\n",
      "48s - loss: 0.0863 - acc: 0.9745 - val_loss: 0.0232 - val_acc: 0.9921\n"
     ]
    }
   ],
   "source": [
    "# Actual training. Note: models are not overfitted since the validation data\n",
    "# is not used in the fitting process (stated in Keras documentation), but for monitoring\n",
    "# of learning process - returned hist (history) shows our learning process.\n",
    "# For speeding up, amount of validation data used can be lowered.\n",
    "model.compile(loss='categorical_crossentropy', optimizer=Adam(lr=3e-4), metrics=[\"accuracy\"])\n",
    "hist = model.fit_generator(data_generator.flow(X_train, y_train, batch_size=16),\n",
    "                           steps_per_epoch=1000,\n",
    "                           epochs=20,\n",
    "                           verbose=2, # each epoch stats will be printed out\n",
    "                           validation_data=(X_validate[:, :], y_validate[:, :]))"
   ]
  },
  {
   "cell_type": "code",
   "execution_count": 31,
   "metadata": {
    "collapsed": false
   },
   "outputs": [
    {
     "name": "stdout",
     "output_type": "stream",
     "text": [
      "Final loss: 0.0232, final accuracy: 0.9921\n"
     ]
    }
   ],
   "source": [
    "# Evaluation based on validation set\n",
    "final_loss, final_acc = model.evaluate(X_validate, y_validate, verbose=0)\n",
    "print(\"Final loss: {0:.4f}, final accuracy: {1:.4f}\".format(final_loss, final_acc))"
   ]
  },
  {
   "cell_type": "code",
   "execution_count": 33,
   "metadata": {
    "collapsed": false
   },
   "outputs": [
    {
     "name": "stdout",
     "output_type": "stream",
     "text": [
      "[[431   0   0   0   0   0   0   0   0   0]\n",
      " [  0 459   0   0   1   0   0   0   0   0]\n",
      " [  1   0 410   1   0   0   0   0   0   0]\n",
      " [  0   0   0 432   0   1   0   0   0   0]\n",
      " [  0   0   0   0 400   0   0   3   0   6]\n",
      " [  1   0   0   0   0 395   3   1   0   0]\n",
      " [  1   0   0   0   1   0 420   0   0   0]\n",
      " [  0   2   3   0   0   0   0 428   0   0]\n",
      " [  1   0   1   0   0   0   1   1 386   1]\n",
      " [  0   1   0   0   1   0   0   1   0 406]]\n"
     ]
    }
   ],
   "source": [
    "# Confusion matrix based on validation set\n",
    "y_pred = model.predict(X_validate)\n",
    "y_pred = np.argmax(y_pred, axis=1)\n",
    "y_true = np.argmax(y_validate, axis=1)\n",
    "cm = confusion_matrix(y_true, y_pred)\n",
    "print(cm)"
   ]
  },
  {
   "cell_type": "code",
   "execution_count": 38,
   "metadata": {
    "collapsed": false
   },
   "outputs": [
    {
     "data": {
      "image/png": "[encoded data removed]",
      "text/plain": [
       "<matplotlib.figure.Figure at 0x1fc84d48ba8>"
      ]
     },
     "metadata": {},
     "output_type": "display_data"
    },
    {
     "data": {
      "image/png": "[encoded data removed]",
      "text/plain": [
       "<matplotlib.figure.Figure at 0x1fc84b8d9b0>"
      ]
     },
     "metadata": {},
     "output_type": "display_data"
    }
   ],
   "source": [
    "# One word: Amazing!\n",
    "# 99% accuraccy!\n",
    "# Comparing to SVM Classifier we have 5% improvement - so the question which\n",
    "# model to choose is rather decided.\n",
    "# Out of curiosity, let's see graph of history of our model learning. \n",
    "# (Although it was printed earlier)\n",
    "plt.plot(hist.history['loss'], color='b')\n",
    "plt.title('Loss value')\n",
    "plt.show()\n",
    "plt.plot(hist.history['acc'], color='r')\n",
    "plt.title('Accuraccy value')\n",
    "plt.show()"
   ]
  },
  {
   "cell_type": "code",
   "execution_count": 39,
   "metadata": {
    "collapsed": true
   },
   "outputs": [],
   "source": [
    "# Interesting thing, according to evaluation we have 99% accuraccy, but from our learning\n",
    "# history we see 97.5% in last epoch.\n",
    "# Still, our model is really good and I think I will save it for my descendants ^^\n",
    "model.save('digit_recognizing_model.h5') "
   ]
  },
  {
   "cell_type": "code",
   "execution_count": 40,
   "metadata": {
    "collapsed": true
   },
   "outputs": [],
   "source": [
    "# Let's make predictions for test data (using more accurate model)\n",
    "output_file = \"predictions.csv\""
   ]
  },
  {
   "cell_type": "code",
   "execution_count": 41,
   "metadata": {
    "collapsed": true
   },
   "outputs": [],
   "source": [
    "# Loading test data and making it suitable for Keras model\n",
    "test_data = np.loadtxt(test_file, skiprows=1, dtype='int', delimiter=',')\n",
    "X_test = test_data.astype(\"float32\")\n",
    "X_test = X_test.reshape(-1, 28, 28, 1) / 255."
   ]
  },
  {
   "cell_type": "code",
   "execution_count": 42,
   "metadata": {
    "collapsed": true
   },
   "outputs": [],
   "source": [
    "# Generating predictions\n",
    "y_pred = model.predict(X_test, batch_size=64)\n",
    "y_pred = np.argmax(y_pred, axis=1)"
   ]
  },
  {
   "cell_type": "code",
   "execution_count": 43,
   "metadata": {
    "collapsed": true
   },
   "outputs": [],
   "source": [
    "# Saving results\n",
    "with open(output_file, 'w') as file:\n",
    "    file.write('ImageId, Label\\n')\n",
    "    for i in range(len(y_pred)):\n",
    "        file.write(''.join([str(i+1), ',', str(y_pred[i]), '\\n']))"
   ]
  }
 ],
 "metadata": {
  "anaconda-cloud": {},
  "kernelspec": {
   "display_name": "Python [conda root]",
   "language": "python",
   "name": "conda-root-py"
  },
  "language_info": {
   "codemirror_mode": {
    "name": "ipython",
    "version": 3
   },
   "file_extension": ".py",
   "mimetype": "text/x-python",
   "name": "python",
   "nbconvert_exporter": "python",
   "pygments_lexer": "ipython3",
   "version": "3.5.2"
  }
 },
 "nbformat": 4,
 "nbformat_minor": 1
}
