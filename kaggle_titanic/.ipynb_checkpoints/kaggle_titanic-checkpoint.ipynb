{
 "cells": [
  {
   "cell_type": "code",
   "execution_count": 60,
   "metadata": {
    "collapsed": false
   },
   "outputs": [],
   "source": [
    "# This notebook contain my solution to Titanic: Machine Learning from Disaster (Kaggle 'starter' competition)\n",
    "# Data can be found here: https://www.kaggle.com/c/titanic/data\n",
    "# I know that my work may be quite far from ideal, as I am rather a beginner - but if you decide to actually read/analyse it\n",
    "# then I hope that it will be somehow useful.\n",
    "# Ok, let's say 'Hello World' to Kaggle :D\n",
    "\n",
    "# First, libraries import\n",
    "import numpy as np\n",
    "import pandas as pd\n",
    "import seaborn as sns\n",
    "import matplotlib.pyplot as plt\n",
    "%matplotlib inline\n",
    "\n"
   ]
  },
  {
   "cell_type": "code",
   "execution_count": 61,
   "metadata": {
    "collapsed": false
   },
   "outputs": [],
   "source": [
    "#Time to load data...\n",
    "train_data = pd.read_csv('./input/train.csv')\n",
    "test_data = pd.read_csv('./input/test.csv')"
   ]
  },
  {
   "cell_type": "code",
   "execution_count": 62,
   "metadata": {
    "collapsed": false
   },
   "outputs": [
    {
     "data": {
      "text/html": [
       "<div>\n",
       "<table border=\"1\" class=\"dataframe\">\n",
       "  <thead>\n",
       "    <tr style=\"text-align: right;\">\n",
       "      <th></th>\n",
       "      <th>PassengerId</th>\n",
       "      <th>Survived</th>\n",
       "      <th>Pclass</th>\n",
       "      <th>Name</th>\n",
       "      <th>Sex</th>\n",
       "      <th>Age</th>\n",
       "      <th>SibSp</th>\n",
       "      <th>Parch</th>\n",
       "      <th>Ticket</th>\n",
       "      <th>Fare</th>\n",
       "      <th>Cabin</th>\n",
       "      <th>Embarked</th>\n",
       "    </tr>\n",
       "  </thead>\n",
       "  <tbody>\n",
       "    <tr>\n",
       "      <th>0</th>\n",
       "      <td>1</td>\n",
       "      <td>0</td>\n",
       "      <td>3</td>\n",
       "      <td>Braund, Mr. Owen Harris</td>\n",
       "      <td>male</td>\n",
       "      <td>22.0</td>\n",
       "      <td>1</td>\n",
       "      <td>0</td>\n",
       "      <td>A/5 21171</td>\n",
       "      <td>7.2500</td>\n",
       "      <td>NaN</td>\n",
       "      <td>S</td>\n",
       "    </tr>\n",
       "    <tr>\n",
       "      <th>1</th>\n",
       "      <td>2</td>\n",
       "      <td>1</td>\n",
       "      <td>1</td>\n",
       "      <td>Cumings, Mrs. John Bradley (Florence Briggs Th...</td>\n",
       "      <td>female</td>\n",
       "      <td>38.0</td>\n",
       "      <td>1</td>\n",
       "      <td>0</td>\n",
       "      <td>PC 17599</td>\n",
       "      <td>71.2833</td>\n",
       "      <td>C85</td>\n",
       "      <td>C</td>\n",
       "    </tr>\n",
       "    <tr>\n",
       "      <th>2</th>\n",
       "      <td>3</td>\n",
       "      <td>1</td>\n",
       "      <td>3</td>\n",
       "      <td>Heikkinen, Miss. Laina</td>\n",
       "      <td>female</td>\n",
       "      <td>26.0</td>\n",
       "      <td>0</td>\n",
       "      <td>0</td>\n",
       "      <td>STON/O2. 3101282</td>\n",
       "      <td>7.9250</td>\n",
       "      <td>NaN</td>\n",
       "      <td>S</td>\n",
       "    </tr>\n",
       "    <tr>\n",
       "      <th>3</th>\n",
       "      <td>4</td>\n",
       "      <td>1</td>\n",
       "      <td>1</td>\n",
       "      <td>Futrelle, Mrs. Jacques Heath (Lily May Peel)</td>\n",
       "      <td>female</td>\n",
       "      <td>35.0</td>\n",
       "      <td>1</td>\n",
       "      <td>0</td>\n",
       "      <td>113803</td>\n",
       "      <td>53.1000</td>\n",
       "      <td>C123</td>\n",
       "      <td>S</td>\n",
       "    </tr>\n",
       "    <tr>\n",
       "      <th>4</th>\n",
       "      <td>5</td>\n",
       "      <td>0</td>\n",
       "      <td>3</td>\n",
       "      <td>Allen, Mr. William Henry</td>\n",
       "      <td>male</td>\n",
       "      <td>35.0</td>\n",
       "      <td>0</td>\n",
       "      <td>0</td>\n",
       "      <td>373450</td>\n",
       "      <td>8.0500</td>\n",
       "      <td>NaN</td>\n",
       "      <td>S</td>\n",
       "    </tr>\n",
       "    <tr>\n",
       "      <th>5</th>\n",
       "      <td>6</td>\n",
       "      <td>0</td>\n",
       "      <td>3</td>\n",
       "      <td>Moran, Mr. James</td>\n",
       "      <td>male</td>\n",
       "      <td>NaN</td>\n",
       "      <td>0</td>\n",
       "      <td>0</td>\n",
       "      <td>330877</td>\n",
       "      <td>8.4583</td>\n",
       "      <td>NaN</td>\n",
       "      <td>Q</td>\n",
       "    </tr>\n",
       "    <tr>\n",
       "      <th>6</th>\n",
       "      <td>7</td>\n",
       "      <td>0</td>\n",
       "      <td>1</td>\n",
       "      <td>McCarthy, Mr. Timothy J</td>\n",
       "      <td>male</td>\n",
       "      <td>54.0</td>\n",
       "      <td>0</td>\n",
       "      <td>0</td>\n",
       "      <td>17463</td>\n",
       "      <td>51.8625</td>\n",
       "      <td>E46</td>\n",
       "      <td>S</td>\n",
       "    </tr>\n",
       "    <tr>\n",
       "      <th>7</th>\n",
       "      <td>8</td>\n",
       "      <td>0</td>\n",
       "      <td>3</td>\n",
       "      <td>Palsson, Master. Gosta Leonard</td>\n",
       "      <td>male</td>\n",
       "      <td>2.0</td>\n",
       "      <td>3</td>\n",
       "      <td>1</td>\n",
       "      <td>349909</td>\n",
       "      <td>21.0750</td>\n",
       "      <td>NaN</td>\n",
       "      <td>S</td>\n",
       "    </tr>\n",
       "    <tr>\n",
       "      <th>8</th>\n",
       "      <td>9</td>\n",
       "      <td>1</td>\n",
       "      <td>3</td>\n",
       "      <td>Johnson, Mrs. Oscar W (Elisabeth Vilhelmina Berg)</td>\n",
       "      <td>female</td>\n",
       "      <td>27.0</td>\n",
       "      <td>0</td>\n",
       "      <td>2</td>\n",
       "      <td>347742</td>\n",
       "      <td>11.1333</td>\n",
       "      <td>NaN</td>\n",
       "      <td>S</td>\n",
       "    </tr>\n",
       "    <tr>\n",
       "      <th>9</th>\n",
       "      <td>10</td>\n",
       "      <td>1</td>\n",
       "      <td>2</td>\n",
       "      <td>Nasser, Mrs. Nicholas (Adele Achem)</td>\n",
       "      <td>female</td>\n",
       "      <td>14.0</td>\n",
       "      <td>1</td>\n",
       "      <td>0</td>\n",
       "      <td>237736</td>\n",
       "      <td>30.0708</td>\n",
       "      <td>NaN</td>\n",
       "      <td>C</td>\n",
       "    </tr>\n",
       "  </tbody>\n",
       "</table>\n",
       "</div>"
      ],
      "text/plain": [
       "   PassengerId  Survived  Pclass  \\\n",
       "0            1         0       3   \n",
       "1            2         1       1   \n",
       "2            3         1       3   \n",
       "3            4         1       1   \n",
       "4            5         0       3   \n",
       "5            6         0       3   \n",
       "6            7         0       1   \n",
       "7            8         0       3   \n",
       "8            9         1       3   \n",
       "9           10         1       2   \n",
       "\n",
       "                                                Name     Sex   Age  SibSp  \\\n",
       "0                            Braund, Mr. Owen Harris    male  22.0      1   \n",
       "1  Cumings, Mrs. John Bradley (Florence Briggs Th...  female  38.0      1   \n",
       "2                             Heikkinen, Miss. Laina  female  26.0      0   \n",
       "3       Futrelle, Mrs. Jacques Heath (Lily May Peel)  female  35.0      1   \n",
       "4                           Allen, Mr. William Henry    male  35.0      0   \n",
       "5                                   Moran, Mr. James    male   NaN      0   \n",
       "6                            McCarthy, Mr. Timothy J    male  54.0      0   \n",
       "7                     Palsson, Master. Gosta Leonard    male   2.0      3   \n",
       "8  Johnson, Mrs. Oscar W (Elisabeth Vilhelmina Berg)  female  27.0      0   \n",
       "9                Nasser, Mrs. Nicholas (Adele Achem)  female  14.0      1   \n",
       "\n",
       "   Parch            Ticket     Fare Cabin Embarked  \n",
       "0      0         A/5 21171   7.2500   NaN        S  \n",
       "1      0          PC 17599  71.2833   C85        C  \n",
       "2      0  STON/O2. 3101282   7.9250   NaN        S  \n",
       "3      0            113803  53.1000  C123        S  \n",
       "4      0            373450   8.0500   NaN        S  \n",
       "5      0            330877   8.4583   NaN        Q  \n",
       "6      0             17463  51.8625   E46        S  \n",
       "7      1            349909  21.0750   NaN        S  \n",
       "8      2            347742  11.1333   NaN        S  \n",
       "9      0            237736  30.0708   NaN        C  "
      ]
     },
     "execution_count": 62,
     "metadata": {},
     "output_type": "execute_result"
    }
   ],
   "source": [
    "#... and preview it\n",
    "sns.set_style('whitegrid')\n",
    "train_data.head(10)"
   ]
  },
  {
   "cell_type": "code",
   "execution_count": 63,
   "metadata": {
    "collapsed": false
   },
   "outputs": [
    {
     "name": "stdout",
     "output_type": "stream",
     "text": [
      "<class 'pandas.core.frame.DataFrame'>\n",
      "RangeIndex: 891 entries, 0 to 890\n",
      "Data columns (total 12 columns):\n",
      "PassengerId    891 non-null int64\n",
      "Survived       891 non-null int64\n",
      "Pclass         891 non-null int64\n",
      "Name           891 non-null object\n",
      "Sex            891 non-null object\n",
      "Age            714 non-null float64\n",
      "SibSp          891 non-null int64\n",
      "Parch          891 non-null int64\n",
      "Ticket         891 non-null object\n",
      "Fare           891 non-null float64\n",
      "Cabin          204 non-null object\n",
      "Embarked       889 non-null object\n",
      "dtypes: float64(2), int64(5), object(5)\n",
      "memory usage: 83.6+ KB\n"
     ]
    }
   ],
   "source": [
    "train_data.info()"
   ]
  },
  {
   "cell_type": "code",
   "execution_count": 64,
   "metadata": {
    "collapsed": true
   },
   "outputs": [],
   "source": [
    "# we can see that some columns have missing values - that needs to be dealt with, some columns clearly\n",
    "# do not affect chances of survival - ticket number for example.\n",
    "# PassangerId is probably index from database and can be dropped too.\n",
    "# Cabin number is another candidate to drop - not only because its usabilty but also high number of \n",
    "#missing values, which is 687 out of 891, ~77%.\n",
    "# Embarked misses some values too and port of embarkation does not seem to be useful in prediction\n",
    "# but that will be investigated first.\n",
    "# Name will be dropped aswell (although first it might be useful in dealing with Age missing values)."
   ]
  },
  {
   "cell_type": "code",
   "execution_count": 65,
   "metadata": {
    "collapsed": true
   },
   "outputs": [],
   "source": [
    "train_data_cleared = train_data.drop(['PassengerId', 'Ticket', 'Cabin'], axis=1)"
   ]
  },
  {
   "cell_type": "code",
   "execution_count": 66,
   "metadata": {
    "collapsed": false
   },
   "outputs": [
    {
     "name": "stdout",
     "output_type": "stream",
     "text": [
      "Embarked\n",
      "C    168\n",
      "Q     77\n",
      "S    644\n",
      "dtype: int64\n"
     ]
    }
   ],
   "source": [
    "# Embarked has only two missing values - such low amount can be replaced by the most frequent one\n",
    "embarked_counts = train_data_cleared.groupby(\"Embarked\").size()\n",
    "print(embarked_counts)"
   ]
  },
  {
   "cell_type": "code",
   "execution_count": 67,
   "metadata": {
    "collapsed": false
   },
   "outputs": [
    {
     "data": {
      "text/plain": [
       "0      S\n",
       "1      C\n",
       "2      S\n",
       "3      S\n",
       "4      S\n",
       "5      Q\n",
       "6      S\n",
       "7      S\n",
       "8      S\n",
       "9      C\n",
       "10     S\n",
       "11     S\n",
       "12     S\n",
       "13     S\n",
       "14     S\n",
       "15     S\n",
       "16     Q\n",
       "17     S\n",
       "18     S\n",
       "19     C\n",
       "20     S\n",
       "21     S\n",
       "22     Q\n",
       "23     S\n",
       "24     S\n",
       "25     S\n",
       "26     C\n",
       "27     S\n",
       "28     Q\n",
       "29     S\n",
       "      ..\n",
       "861    S\n",
       "862    S\n",
       "863    S\n",
       "864    S\n",
       "865    S\n",
       "866    C\n",
       "867    S\n",
       "868    S\n",
       "869    S\n",
       "870    S\n",
       "871    S\n",
       "872    S\n",
       "873    S\n",
       "874    C\n",
       "875    C\n",
       "876    S\n",
       "877    S\n",
       "878    S\n",
       "879    C\n",
       "880    S\n",
       "881    S\n",
       "882    S\n",
       "883    S\n",
       "884    S\n",
       "885    Q\n",
       "886    S\n",
       "887    S\n",
       "888    S\n",
       "889    C\n",
       "890    Q\n",
       "Name: Embarked, dtype: object"
      ]
     },
     "execution_count": 67,
     "metadata": {},
     "output_type": "execute_result"
    }
   ],
   "source": [
    "# result was Southampton\n",
    "train_data_cleared[\"Embarked\"].fillna('S')"
   ]
  },
  {
   "cell_type": "code",
   "execution_count": 68,
   "metadata": {
    "collapsed": false
   },
   "outputs": [
    {
     "data": {
      "image/png": "[encoded data removed]",
      "text/plain": [
       "<matplotlib.figure.Figure at 0x1b79e04ca20>"
      ]
     },
     "metadata": {},
     "output_type": "display_data"
    }
   ],
   "source": [
    "# Now we can do some visualization and see how embarkation port affects chances of survival\n",
    "fig = plt.figure(figsize=(12, 4))\n",
    "\n",
    "#titles = ['Counts', 'Survived counts', 'Survived [%]']\n",
    "ax1 = fig.add_subplot(1, 3, 1)\n",
    "ax1.set_title(\"Counts by embarkation\")\n",
    "#ax1.bar(embarked_counts.keys(), embarked_counts.values())\n",
    "#well, line above is not good idea and it tourns out seaborn can hande that so why not use it\n",
    "sns.countplot(x='Embarked', data=train_data_cleared, ax=ax1)\n",
    "\n",
    "ax2 = fig.add_subplot(1, 3, 2)\n",
    "ax2.set_title('Survived counts by embarkation')\n",
    "sns.countplot(x='Embarked', hue='Survived', data=train_data_cleared, ax=ax2)\n",
    "# at this subplot we can see that people who embarked at Cherbourg survived more frequently than others\n",
    "\n",
    "ax3 = fig.add_subplot(1, 3, 3)\n",
    "ax3.set_title('Survival ratio by embrakation [%]')\n",
    "\n",
    "embarkation_ports_survival_ratio = {'S':0, 'C':0, 'Q':0}\n",
    "for port in embarkation_ports_survival_ratio.keys():\n",
    "    total_count = train_data_cleared[train_data_cleared[\"Embarked\"] == port].size\n",
    "    survived_count = train_data_cleared[(train_data_cleared[\"Embarked\"] == port) & \n",
    "                                       (train_data_cleared[\"Survived\"] == 1)].size\n",
    "    embarkation_ports_survival_ratio[port] = survived_count / total_count\n",
    "\n",
    "#print(embarkation_ports_survival_ratio)\n",
    "#embarkation_survival_ratio_df = pd.DataFrame.from_dict(embarkation_ports_survival_ratio, orient='index')\n",
    "#print(embarkation_survival_ratio_df.head())\n",
    "tmp = [[value, key] for key, value in embarkation_ports_survival_ratio.items()]\n",
    "sns.barplot(x=[key for key in embarkation_ports_survival_ratio.keys()],\n",
    "            y=[value * 100 for value in embarkation_ports_survival_ratio.values()], ax=ax3)\n",
    "   \n",
    "plt.show()"
   ]
  },
  {
   "cell_type": "code",
   "execution_count": 69,
   "metadata": {
    "collapsed": false
   },
   "outputs": [
    {
     "data": {
      "text/plain": [
       "<seaborn.axisgrid.FacetGrid at 0x1b79b582c50>"
      ]
     },
     "execution_count": 69,
     "metadata": {},
     "output_type": "execute_result"
    },
    {
     "data": {
      "image/png": "[encoded data removed]",
      "text/plain": [
       "<matplotlib.figure.Figure at 0x1b79b582780>"
      ]
     },
     "metadata": {},
     "output_type": "display_data"
    }
   ],
   "source": [
    "#To sum up - mean of survival by class:\n",
    "sns.factorplot('Embarked', 'Survived', data=train_data_cleared, size=3.5, aspect=3)"
   ]
  },
  {
   "cell_type": "code",
   "execution_count": 70,
   "metadata": {
    "collapsed": true
   },
   "outputs": [],
   "source": [
    "# Looks like embarkation category may affects survival ratio and therefore won't be discarded\n",
    "# Next thing to analyse is passenger class and fare he paid.\n",
    "# It is almost sure that passengers from higher class will have better chances of survival - \n",
    "# the question that comes to my mind is if among class the ones that paid more were prioritized to\n",
    "# rescue even in comparision to rest in the same class?\n",
    "# (if so, it may be that it occurs only in 1st. class)"
   ]
  },
  {
   "cell_type": "code",
   "execution_count": 71,
   "metadata": {
    "collapsed": false
   },
   "outputs": [
    {
     "data": {
      "text/plain": [
       "<matplotlib.axes._subplots.AxesSubplot at 0x1b79f1dc898>"
      ]
     },
     "execution_count": 71,
     "metadata": {},
     "output_type": "execute_result"
    },
    {
     "data": {
      "image/png": "[encoded data removed]",
      "text/plain": [
       "<matplotlib.figure.Figure at 0x1b79f126400>"
      ]
     },
     "metadata": {},
     "output_type": "display_data"
    }
   ],
   "source": [
    "# checking survival rate by pclass is similar to embarkation but code has some improvements\n",
    "fig, (ax1, ax2, ax3) = plt.subplots(1, 3, figsize=(12, 4))\n",
    "\n",
    "ax1.set_title('Counts by Pclass')\n",
    "sns.countplot(x=\"Pclass\", data=train_data_cleared, ax=ax1)\n",
    "\n",
    "ax2.set_title('Survived counts by Pclass')\n",
    "sns.countplot(x=\"Pclass\", hue='Survived', data=train_data_cleared, ax=ax2)\n",
    "\n",
    "ax3.set_title('Surviveed counts by Pclass [%]')\n",
    "pclasses_percentage = train_data_cleared[['Pclass', 'Survived']].groupby(\n",
    "    'Pclass', as_index=False).mean()\n",
    "# due to [0,1] values in survived mean is simply percentage of\n",
    "# of survived   \n",
    "sns.barplot(x=\"Pclass\", y='Survived', data=pclasses_percentage, ax=ax3)"
   ]
  },
  {
   "cell_type": "code",
   "execution_count": 72,
   "metadata": {
    "collapsed": true
   },
   "outputs": [],
   "source": [
    "# results are rather not surprising - the higher passenger class the higher survival rate\n",
    "# survival rate in first class in 1st. class i similar to the one of passengers embarked in Southampton\n",
    "# - checked out of curiosity if the reason was that most of 1st. passengers embarked there but\n",
    "# it is not the case according to data on wikipedia"
   ]
  },
  {
   "cell_type": "code",
   "execution_count": 73,
   "metadata": {
    "collapsed": false
   },
   "outputs": [
    {
     "data": {
      "text/plain": [
       "<matplotlib.axes._subplots.AxesSubplot at 0x1b79f26d470>"
      ]
     },
     "execution_count": 73,
     "metadata": {},
     "output_type": "execute_result"
    },
    {
     "data": {
      "image/png": "[encoded data removed]",
      "text/plain": [
       "<matplotlib.figure.Figure at 0x1b79dff5208>"
      ]
     },
     "metadata": {},
     "output_type": "display_data"
    }
   ],
   "source": [
    "# Moving on to analyse fares\n",
    "fig, ax = plt.subplots(1, 1, figsize=(12, 4))\n",
    "ax.set_title('Survival rate in fares ranges')\n",
    "\n",
    "#sns.distplot(train_data_cleared['Fare'] / 10, bins=100, kde=False) - results quite unclear to read\n",
    "# from commented out try we know that there are passengers that paid more than 100$ but that \n",
    "# amount is pretty low and make histogram hard to read so limit will be set\n",
    "train_data_cleared[\"Fare\"].plot(kind='hist', bins=100, xlim=(0, 100))"
   ]
  },
  {
   "cell_type": "code",
   "execution_count": 74,
   "metadata": {
    "collapsed": false
   },
   "outputs": [
    {
     "name": "stderr",
     "output_type": "stream",
     "text": [
      "C:\\Users\\ja\\Anaconda3\\lib\\site-packages\\ipykernel\\__main__.py:8: SettingWithCopyWarning: \n",
      "A value is trying to be set on a copy of a slice from a DataFrame.\n",
      "Try using .loc[row_indexer,col_indexer] = value instead\n",
      "\n",
      "See the caveats in the documentation: http://pandas.pydata.org/pandas-docs/stable/indexing.html#indexing-view-versus-copy\n"
     ]
    },
    {
     "data": {
      "text/plain": [
       "fare_bin\n",
       "(-0.0935, 4.675]    0.062500\n",
       "(4.675, 9.35]       0.205298\n",
       "(9.35, 14.025]      0.403361\n",
       "(14.025, 18.7]      0.338462\n",
       "(18.7, 23.375]      0.581395\n",
       "(23.375, 28.05]     0.425532\n",
       "(28.05, 32.725]     0.441860\n",
       "(32.725, 37.4]      0.368421\n",
       "(37.4, 42.075]      0.388889\n",
       "(42.075, 46.75]     0.000000\n",
       "(46.75, 51.425]     0.166667\n",
       "(51.425, 56.1]      0.652174\n",
       "(56.1, 60.775]      0.857143\n",
       "(60.775, 65.45]     0.500000\n",
       "(65.45, 70.125]     0.272727\n",
       "(70.125, 74.8]      0.250000\n",
       "(74.8, 79.475]      0.722222\n",
       "(79.475, 84.15]     0.769231\n",
       "(84.15, 88.825]     1.000000\n",
       "(88.825, 93.5]      0.900000\n",
       "Name: Survived, dtype: float64"
      ]
     },
     "execution_count": 74,
     "metadata": {},
     "output_type": "execute_result"
    }
   ],
   "source": [
    "#but how the fare corresponds to survivability?\n",
    "#plt.scatter(train_data_cleared[\"Fare\"], train_data_cleared[\"Survived\"]) well, not relly ^^\n",
    "#bins = np.arange(1, 102, 5)\n",
    "#tmp_df = train_data_cleared[train_data_cleared['Fare'].astype(int) <= 100]\n",
    "#binned = pd.cut(tmp_df['Fare'].astype(int), bins, labels=['Fare'])\n",
    "#some o fail aproaches above\n",
    "tmp_df = train_data_cleared[train_data_cleared['Fare'].astype(int) <= 100]\n",
    "tmp_df[\"fare_bin\"] = pd.cut(tmp_df['Fare'], bins=20)\n",
    "tmp_df.groupby('fare_bin')['Survived'].mean()\n",
    "\n",
    "# from the result we can read that survival rate varies but people with lowest/highest fares have \n",
    "# respectively lower/higher survival rates\n"
   ]
  },
  {
   "cell_type": "code",
   "execution_count": 75,
   "metadata": {
    "collapsed": false
   },
   "outputs": [
    {
     "data": {
      "text/plain": [
       "<matplotlib.axes._subplots.AxesSubplot at 0x1b79f06ad68>"
      ]
     },
     "execution_count": 75,
     "metadata": {},
     "output_type": "execute_result"
    },
    {
     "data": {
      "image/png": "[encoded data removed]",
      "text/plain": [
       "<matplotlib.figure.Figure at 0x1b79f1a29b0>"
      ]
     },
     "metadata": {},
     "output_type": "display_data"
    }
   ],
   "source": [
    "# Now let's see how survival rate is distributed among sexes \n",
    "fig, (ax1, ax2, ax3) = plt.subplots(1, 3, figsize=(12, 4))\n",
    "\n",
    "ax1.set_title('Passengers counts by sex')\n",
    "sns.countplot(train_data_cleared['Sex'], data=train_data_cleared, ax=ax1)\n",
    "\n",
    "ax2.set_title('Survival counts by sex')\n",
    "sns.countplot(x='Sex', data=train_data_cleared, hue='Survived', ax=ax2)\n",
    "\n",
    "ax3.set_title('Survival counts by sex [%]')\n",
    "sex_survival_rates = train_data_cleared[['Sex', 'Survived']].groupby('Sex', as_index=False).mean()\n",
    "sns.barplot(x='Sex', \n",
    "            y='Survived', data=sex_survival_rates, ax=ax3)"
   ]
  },
  {
   "cell_type": "code",
   "execution_count": 76,
   "metadata": {
    "collapsed": true
   },
   "outputs": [],
   "source": [
    "# Well, what can we say, male passengers were more frequent on the ship and\n",
    "# \"Women and children first\" is not a joke"
   ]
  },
  {
   "cell_type": "code",
   "execution_count": 77,
   "metadata": {
    "collapsed": false
   },
   "outputs": [
    {
     "data": {
      "text/plain": [
       "53"
      ]
     },
     "execution_count": 77,
     "metadata": {},
     "output_type": "execute_result"
    }
   ],
   "source": [
    "# The time has come to finally deal with our last column containing missing values: 'Age'\n",
    "# After that it will by analyzed\n",
    "# After looking into a data we can find some pattern in Name column - males up to 13-15yo are called\n",
    "# Master instead of Mr.\n",
    "# We can use it and replace missing age values using that information, unfortunetely there is\n",
    "# no such pattern in case o females, or something that could help us in case of older men\n",
    "# in that cases we can simply use mean withsome addidion of random number from range 0 up to std\n",
    "\n",
    "master_df = train_data_cleared[(train_data_cleared['Name'].str.contains('Master|master')) & \n",
    "                                 ~(train_data_cleared['Age'].isnull())]['Age']\n",
    "master_mean = master_df.mean()\n",
    "master_std = master_df.std()\n",
    "master_null_count = train_data_cleared[(train_data_cleared['Name'].str.contains('Master|master')) & \n",
    "                                 (train_data_cleared['Age'].isnull())].shape[0]\n",
    "\n",
    "#Well, master_null_count is only 4 but it is still something\n",
    "\n",
    "#rand_nums_master = np.random.randint(master_mean - master_std, master_mean + master_std, \n",
    "#                                size=master_null_count)\n",
    "rand_nums_master = [master_mean for i in range(0, master_null_count)]\n",
    "train_data_cleared.loc[(train_data_cleared['Name'].str.contains('Master|master')) & \n",
    "                                 (train_data_cleared['Age'].isnull()), 'Age'] = rand_nums_master\n",
    "\n",
    "#ok, now let's get the job (simplified, just using mean and std) done for the other men and women\n",
    "adult_men_df = train_data_cleared[(train_data_cleared['Sex'] == 'male') &\n",
    "                                    ~(train_data_cleared['Age'].isnull()) & \n",
    "                                    ~(train_data_cleared['Name'].str.contains('Master|master'))][\"Age\"]\n",
    "\n",
    "adult_men_mean = adult_men_df.mean()\n",
    "adult_men_std = adult_men_df.std()\n",
    "\n",
    "#gen_age_fnc = lambda x: np.random.uniform(low=adult_men_mean - adult_men_std,\n",
    "#                                             high=adult_men_mean + adult_men_std, size=1)[0]\n",
    "\n",
    "gen_age_fnc = lambda x: adult_men_mean\n",
    "\n",
    "adult_male_nulls = (train_data_cleared['Sex'] == 'male') & (train_data_cleared['Age'].isnull())\n",
    "train_data_cleared.loc[adult_male_nulls, 'Age'] = train_data_cleared.loc[adult_male_nulls, 'Age'\n",
    "                                                                        ].apply(gen_age_fnc)\n",
    "\n",
    "\n",
    "train_data_cleared[(train_data_cleared['Age'].isnull())].shape[0] #- just to check remaining nulls\n",
    "\n"
   ]
  },
  {
   "cell_type": "code",
   "execution_count": 78,
   "metadata": {
    "collapsed": true
   },
   "outputs": [],
   "source": [
    "# Firstly I wanted to replace the missing values using random numbers and mean/std, but after\n",
    "# in the end just ordinary mean was used\n",
    "# Women missing ages still needs to treated and the method will be the same"
   ]
  },
  {
   "cell_type": "code",
   "execution_count": 79,
   "metadata": {
    "collapsed": false
   },
   "outputs": [
    {
     "data": {
      "text/plain": [
       "<matplotlib.axes._subplots.AxesSubplot at 0x1b79dfffa58>"
      ]
     },
     "execution_count": 79,
     "metadata": {},
     "output_type": "execute_result"
    },
    {
     "data": {
      "image/png": "[encoded data removed]",
      "text/plain": [
       "<matplotlib.figure.Figure at 0x1b79f1e9240>"
      ]
     },
     "metadata": {},
     "output_type": "display_data"
    }
   ],
   "source": [
    "women_mean = train_data_cleared.loc[(train_data_cleared['Sex'] == 'female'), 'Age'].mean()\n",
    "train_data_cleared.loc[(train_data_cleared['Age'].isnull()), 'Age'] = women_mean\n",
    "#done, we can visualize it\n",
    "fig, ax1 = plt.subplots(1, 1, figsize=(12,4))\n",
    "train_data_cleared['Age'].hist(bins=60, ax=ax1)\n",
    "#here is how age distribution looks like"
   ]
  },
  {
   "cell_type": "code",
   "execution_count": 80,
   "metadata": {
    "collapsed": false
   },
   "outputs": [
    {
     "data": {
      "text/plain": [
       "<matplotlib.axes._subplots.AxesSubplot at 0x1b79f5c0940>"
      ]
     },
     "execution_count": 80,
     "metadata": {},
     "output_type": "execute_result"
    },
    {
     "data": {
      "image/png": "[encoded data removed]",
      "text/plain": [
       "<matplotlib.figure.Figure at 0x1b79f571550>"
      ]
     },
     "metadata": {},
     "output_type": "display_data"
    }
   ],
   "source": [
    "# And how survival rates look in different age groups?\n",
    "# To get the better idea I will try to show both survival rate and counts, actually we can use\n",
    "# bins with size of 1 year (to do it float->int conversion first will be done)\n",
    "train_data_cleared['Age'] = train_data_cleared['Age'].astype(int)\n",
    "fig, (ax1, ax2) = plt.subplots(2, 1, figsize=(12, 20))\n",
    "sns.countplot(x=train_data_cleared['Age'], ax=ax1)\n",
    "sns.barplot(x='Age', y='Survived', data=train_data_cleared[['Age', 'Survived']].groupby(\n",
    "    'Age', as_index=False).mean())\n"
   ]
  },
  {
   "cell_type": "code",
   "execution_count": 81,
   "metadata": {
    "collapsed": true
   },
   "outputs": [],
   "source": [
    "# We can see that the left side of our age/mean(survival) plot, survival rates are quite good,\n",
    "# and higher than average\n",
    "# On the first look survival rates of old pesengers seemed good, but after a moment I saw that\n",
    "# area with zero surival rate\n",
    "# The reason is probably, that this group is rather small and 2-3 persons are sometimes all in bin \n",
    "# The children group on the other hand has greater quantity and may be worth to be treated specially\n",
    "# in some wy (separate column? rather not, maybe better thing to do  is to distinquish it in 'Sex' \n",
    "# column as child)"
   ]
  },
  {
   "cell_type": "code",
   "execution_count": 82,
   "metadata": {
    "collapsed": false
   },
   "outputs": [
    {
     "data": {
      "text/html": [
       "<div>\n",
       "<table border=\"1\" class=\"dataframe\">\n",
       "  <thead>\n",
       "    <tr style=\"text-align: right;\">\n",
       "      <th></th>\n",
       "      <th>Survived</th>\n",
       "      <th>Pclass</th>\n",
       "      <th>Sex</th>\n",
       "      <th>Age</th>\n",
       "      <th>SibSp</th>\n",
       "      <th>Parch</th>\n",
       "      <th>Fare</th>\n",
       "      <th>Embarked</th>\n",
       "    </tr>\n",
       "  </thead>\n",
       "  <tbody>\n",
       "    <tr>\n",
       "      <th>0</th>\n",
       "      <td>0</td>\n",
       "      <td>3</td>\n",
       "      <td>male</td>\n",
       "      <td>22</td>\n",
       "      <td>1</td>\n",
       "      <td>0</td>\n",
       "      <td>7.2500</td>\n",
       "      <td>S</td>\n",
       "    </tr>\n",
       "    <tr>\n",
       "      <th>1</th>\n",
       "      <td>1</td>\n",
       "      <td>1</td>\n",
       "      <td>female</td>\n",
       "      <td>38</td>\n",
       "      <td>1</td>\n",
       "      <td>0</td>\n",
       "      <td>71.2833</td>\n",
       "      <td>C</td>\n",
       "    </tr>\n",
       "    <tr>\n",
       "      <th>2</th>\n",
       "      <td>1</td>\n",
       "      <td>3</td>\n",
       "      <td>female</td>\n",
       "      <td>26</td>\n",
       "      <td>0</td>\n",
       "      <td>0</td>\n",
       "      <td>7.9250</td>\n",
       "      <td>S</td>\n",
       "    </tr>\n",
       "    <tr>\n",
       "      <th>3</th>\n",
       "      <td>1</td>\n",
       "      <td>1</td>\n",
       "      <td>female</td>\n",
       "      <td>35</td>\n",
       "      <td>1</td>\n",
       "      <td>0</td>\n",
       "      <td>53.1000</td>\n",
       "      <td>S</td>\n",
       "    </tr>\n",
       "    <tr>\n",
       "      <th>4</th>\n",
       "      <td>0</td>\n",
       "      <td>3</td>\n",
       "      <td>male</td>\n",
       "      <td>35</td>\n",
       "      <td>0</td>\n",
       "      <td>0</td>\n",
       "      <td>8.0500</td>\n",
       "      <td>S</td>\n",
       "    </tr>\n",
       "  </tbody>\n",
       "</table>\n",
       "</div>"
      ],
      "text/plain": [
       "   Survived  Pclass     Sex  Age  SibSp  Parch     Fare Embarked\n",
       "0         0       3    male   22      1      0   7.2500        S\n",
       "1         1       1  female   38      1      0  71.2833        C\n",
       "2         1       3  female   26      0      0   7.9250        S\n",
       "3         1       1  female   35      1      0  53.1000        S\n",
       "4         0       3    male   35      0      0   8.0500        S"
      ]
     },
     "execution_count": 82,
     "metadata": {},
     "output_type": "execute_result"
    }
   ],
   "source": [
    "def get_new_sex(data): \n",
    "    sex, age = data\n",
    "    return 'child' if age <= 15 else sex\n",
    "\n",
    "train_data_cleared.loc[:,'Sex'] = train_data_cleared[['Sex', 'Age']].apply(get_new_sex,\n",
    "    axis=1)\n",
    "# and yeah, child is not actually a sex, but I have no idea how to name it\n",
    "# and after we have dealt with age we can get rid op Name column\n",
    "train_data_cleared = train_data_cleared.drop('Name', 1)\n",
    "train_data_cleared.head(5)"
   ]
  },
  {
   "cell_type": "code",
   "execution_count": 83,
   "metadata": {
    "collapsed": false
   },
   "outputs": [
    {
     "data": {
      "text/plain": [
       "'\\nsibsp: The dataset defines family relations in this way...\\nSibling = brother, sister, stepbrother, stepsister\\nSpouse = husband, wife (mistresses and fiancés were ignored)\\n\\nparch: The dataset defines family relations in this way...\\nParent = mother, father\\nChild = daughter, son, stepdaughter, stepson\\nSome children travelled only with a nanny, therefore parch=0 for them.\\n'"
      ]
     },
     "execution_count": 83,
     "metadata": {},
     "output_type": "execute_result"
    }
   ],
   "source": [
    "# Last thing to deal with are columns SibSp and Parch - according to introduction they are respectively:\n",
    "'''\n",
    "sibsp: The dataset defines family relations in this way...\n",
    "Sibling = brother, sister, stepbrother, stepsister\n",
    "Spouse = husband, wife (mistresses and fiancés were ignored)\n",
    "\n",
    "parch: The dataset defines family relations in this way...\n",
    "Parent = mother, father\n",
    "Child = daughter, son, stepdaughter, stepson\n",
    "Some children travelled only with a nanny, therefore parch=0 for them.\n",
    "'''\n",
    "# I would like to first simplify this to one column - as family_members"
   ]
  },
  {
   "cell_type": "code",
   "execution_count": 84,
   "metadata": {
    "collapsed": true
   },
   "outputs": [],
   "source": [
    "train_data_cleared['FamMembers'] = train_data_cleared['SibSp'] + train_data_cleared['Parch']\n",
    "train_data_cleared = train_data_cleared.drop(['SibSp', 'Parch'], 1)"
   ]
  },
  {
   "cell_type": "code",
   "execution_count": 85,
   "metadata": {
    "collapsed": false
   },
   "outputs": [
    {
     "data": {
      "text/plain": [
       "<matplotlib.axes._subplots.AxesSubplot at 0x1b7a02987b8>"
      ]
     },
     "execution_count": 85,
     "metadata": {},
     "output_type": "execute_result"
    },
    {
     "data": {
      "image/png": "[encoded data removed]",
      "text/plain": [
       "<matplotlib.figure.Figure at 0x1b79f621a58>"
      ]
     },
     "metadata": {},
     "output_type": "display_data"
    }
   ],
   "source": [
    "fig, (ax1, ax2) = plt.subplots(1, 2, figsize=(12, 4))\n",
    "counts_names = ['With family', 'Without family']\n",
    "with_family = train_data_cleared['FamMembers'] > 0\n",
    "with_family_count = train_data_cleared[with_family].shape[0]\n",
    "without_family_count = train_data_cleared.shape[0] - with_family_count\n",
    "\n",
    "ax1.set_title('With/without family counts')\n",
    "sns.barplot(x=counts_names, y=[with_family_count, without_family_count], ax=ax1)\n",
    "\n",
    "with_survived_cnt = train_data_cleared[(with_family) & (train_data_cleared['Survived'] == 1)].shape[0]\n",
    "without_survived_cnt = train_data_cleared[~(with_family) & (train_data_cleared['Survived'] == 1)].shape[0]\n",
    "\n",
    "ax2.set_title('With/without family survival rate')\n",
    "sns.barplot(x=counts_names, y=[with_survived_cnt / with_family_count,\n",
    "                               without_survived_cnt / without_family_count], ax=ax2)\n",
    "\n"
   ]
  },
  {
   "cell_type": "code",
   "execution_count": 86,
   "metadata": {
    "collapsed": true
   },
   "outputs": [],
   "source": [
    "# We see that onboard were more people withot family - and that ones with family has greater survival\n",
    "# rates. Does higher number of family members onboard positively/negatively affect survival rate?"
   ]
  },
  {
   "cell_type": "code",
   "execution_count": 87,
   "metadata": {
    "collapsed": false
   },
   "outputs": [
    {
     "data": {
      "text/plain": [
       "<matplotlib.axes._subplots.AxesSubplot at 0x1b79fa93c88>"
      ]
     },
     "execution_count": 87,
     "metadata": {},
     "output_type": "execute_result"
    },
    {
     "data": {
      "image/png": "[encoded data removed]",
      "text/plain": [
       "<matplotlib.figure.Figure at 0x1b79fa34a58>"
      ]
     },
     "metadata": {},
     "output_type": "display_data"
    }
   ],
   "source": [
    "fam_mem_numbers = list(np.arange(0, max(train_data_cleared['FamMembers']) + 1, 1))\n",
    "\n",
    "survival_rates = []\n",
    "total_counts = []\n",
    "to_delete = []\n",
    "for num in fam_mem_numbers:\n",
    "    total_count = train_data_cleared[train_data_cleared['FamMembers'] == num].shape[0]\n",
    "    survived_count = train_data_cleared[(train_data_cleared['FamMembers'] == num) & \n",
    "                                       (train_data_cleared['Survived'] == 1)].shape[0]\n",
    "    if total_count != 0:\n",
    "        sur_rate = survived_count / total_count\n",
    "        survival_rates.append(sur_rate)\n",
    "        total_counts.append(total_count)\n",
    "    else:\n",
    "        to_delete.append(num)\n",
    "\n",
    "for item in to_delete:\n",
    "    fam_mem_numbers.remove(item)\n",
    "        \n",
    "fig, (ax1, ax2) = plt.subplots(1, 2, figsize=(12, 6))\n",
    "ax1.set_title('Family members counts')\n",
    "sns.barplot(x=fam_mem_numbers, y=total_counts, ax=ax1)\n",
    "ax2.set_title('Family members - Survival rate relation')\n",
    "sns.barplot(x=fam_mem_numbers, y=survival_rates, ax=ax2)"
   ]
  },
  {
   "cell_type": "code",
   "execution_count": 88,
   "metadata": {
    "collapsed": true
   },
   "outputs": [],
   "source": [
    "# We can see that to some extent the greater amount of family onboard - the greater survival chances\n",
    "# But at some point (but this data is uncertain due to low amount of samples) chances drop down\n",
    "# suddenly and are affected rather negatively\n",
    "# I'm uncertain about leaving it the way it is and bringing it to 0/1 for not having/having\n",
    "# family on board\n",
    "# After all we will give it a shot as it is"
   ]
  },
  {
   "cell_type": "code",
   "execution_count": 89,
   "metadata": {
    "collapsed": true
   },
   "outputs": [],
   "source": [
    "# For now everything is analysed/visualized and prepared/cleaned - in case of train dataset, in \n",
    "# next few cells test dataset will be done the same way"
   ]
  },
  {
   "cell_type": "code",
   "execution_count": 90,
   "metadata": {
    "collapsed": false
   },
   "outputs": [
    {
     "name": "stdout",
     "output_type": "stream",
     "text": [
      "<class 'pandas.core.frame.DataFrame'>\n",
      "RangeIndex: 418 entries, 0 to 417\n",
      "Data columns (total 11 columns):\n",
      "PassengerId    418 non-null int64\n",
      "Pclass         418 non-null int64\n",
      "Name           418 non-null object\n",
      "Sex            418 non-null object\n",
      "Age            332 non-null float64\n",
      "SibSp          418 non-null int64\n",
      "Parch          418 non-null int64\n",
      "Ticket         418 non-null object\n",
      "Fare           417 non-null float64\n",
      "Cabin          91 non-null object\n",
      "Embarked       418 non-null object\n",
      "dtypes: float64(2), int64(4), object(5)\n",
      "memory usage: 36.0+ KB\n"
     ]
    }
   ],
   "source": [
    "test_data.info()"
   ]
  },
  {
   "cell_type": "code",
   "execution_count": 91,
   "metadata": {
    "collapsed": false
   },
   "outputs": [
    {
     "name": "stdout",
     "output_type": "stream",
     "text": [
      "<class 'pandas.core.frame.DataFrame'>\n",
      "RangeIndex: 418 entries, 0 to 417\n",
      "Data columns (total 6 columns):\n",
      "Pclass        418 non-null int64\n",
      "Sex           418 non-null object\n",
      "Age           418 non-null int32\n",
      "Fare          418 non-null float64\n",
      "Embarked      418 non-null object\n",
      "FamMembers    418 non-null int64\n",
      "dtypes: float64(1), int32(1), int64(2), object(2)\n",
      "memory usage: 18.0+ KB\n",
      "<class 'pandas.core.frame.DataFrame'>\n",
      "RangeIndex: 891 entries, 0 to 890\n",
      "Data columns (total 7 columns):\n",
      "Survived      891 non-null int64\n",
      "Pclass        891 non-null int64\n",
      "Sex           891 non-null object\n",
      "Age           891 non-null int32\n",
      "Fare          891 non-null float64\n",
      "Embarked      889 non-null object\n",
      "FamMembers    891 non-null int64\n",
      "dtypes: float64(1), int32(1), int64(3), object(2)\n",
      "memory usage: 45.3+ KB\n"
     ]
    }
   ],
   "source": [
    "test_data_cleared = test_data.drop(['Ticket', 'Cabin'], axis=1)\n",
    "\n",
    "# Handling missing fare value - that passenger travel in class 3 and median of this class will be used\n",
    "test_data_cleared.loc[test_data['Fare'].isnull(), 'Fare'] = test_data[\n",
    "    test_data['Pclass'] == 3]['Fare'].median()\n",
    "\n",
    "test_data_cleared['FamMembers'] = test_data_cleared['SibSp'] + test_data_cleared['Parch']\n",
    "test_data_cleared.drop(['SibSp', 'Parch'], axis=1, inplace=True)\n",
    "\n",
    "#Pandas docs says that it deals with missing values itself, so no not nul condition like earlier\n",
    "master_mean = test_data_cleared[(test_data_cleared['Name'].str.contains('Master|master'))]['Age'].mean()\n",
    "adult_men_mean = test_data_cleared[~(test_data_cleared['Name'].str.contains('Master|master'))][\n",
    "    'Age'].mean()\n",
    "women_mean = test_data_cleared[test_data_cleared['Sex'] == 'female']['Age'].mean()\n",
    "\n",
    "test_data_cleared.loc[(test_data_cleared['Sex'] == 'female') & (test_data_cleared['Age'].isnull()),\n",
    "                       'Age'] = women_mean\n",
    "test_data_cleared.loc[test_data_cleared['Name'].str.contains('Master|master') & (\n",
    "    test_data_cleared['Age'].isnull()), 'Age'] = master_mean\n",
    "test_data_cleared.loc[test_data_cleared['Age'].isnull(), 'Age'] = adult_men_mean\n",
    "test_data_cleared['Age'] = test_data_cleared['Age'].astype(int)\n",
    "\n",
    "test_data_cleared.loc[test_data_cleared['Age'] <= 15, 'Sex'] = 'child'\n",
    "\n",
    "test_data_cleared.drop(['Name', 'PassengerId'], axis=1, inplace=True)\n",
    "test_data_cleared.head(10)\n",
    "test_data_cleared.info()\n",
    "train_data_cleared.info()"
   ]
  },
  {
   "cell_type": "code",
   "execution_count": 92,
   "metadata": {
    "collapsed": true
   },
   "outputs": [],
   "source": [
    "# Well, looks like it is done, it actually went faster and better (code more clear and readable than\n",
    "# the first one)\n",
    "# Now it is time to get data ready for ml"
   ]
  },
  {
   "cell_type": "code",
   "execution_count": 93,
   "metadata": {
    "collapsed": true
   },
   "outputs": [],
   "source": [
    "# Well I unsuccesfully tried to use models at this moment it but there is one more thing - string values\n",
    "# are needed to get rid off\n",
    "# Scikit-learn internaly works in floats, and try to convert to them every data, what won't\n",
    "# be possible in case of values like 'male' or 'female'\n",
    "# First idea, just encoding it in form of dict like [male:1, female:2] won't work either,\n",
    "# scikit treat like contious values, not categorical and that will cause the problems\n",
    "# Solution found i one of k encoding - so for each value we will have binary with 0 or 1\n",
    "# On the other hand it will cause featur number growth so it is worth to think again\n",
    "# and potentially get rid off som clases like for example 'male' from 'Sex'"
   ]
  },
  {
   "cell_type": "code",
   "execution_count": 94,
   "metadata": {
    "collapsed": true
   },
   "outputs": [],
   "source": [
    "# After some reaserch we (according to: i.e. https://en.wikipedia.org/wiki/Dummy_variable_(statistics))\n",
    "# We can safely remove one value (column, after transformation) (preferably most frequent),\n",
    "# it will be treated then as base category and other ones will be tested against it\n",
    "# So in our case we need to create columns as follows:\n",
    "# *for passenger class: 1 and 2 (3rd class will be discarded one)\n",
    "# *for 'Sex': child and female (male class will be discarded one)\n",
    "# *for embarkation port: Q and C (Southampton will be discarded one)"
   ]
  },
  {
   "cell_type": "code",
   "execution_count": 95,
   "metadata": {
    "collapsed": true
   },
   "outputs": [],
   "source": [
    "#Passenger class\n",
    "pclass_train_dummies = pd.get_dummies(train_data_cleared['Pclass'])\n",
    "pclass_test_dummies = pd.get_dummies(test_data_cleared['Pclass'])\n",
    "\n",
    "pclass_train_dummies.columns = ['Class 1', 'Class 2', 'Class 3']\n",
    "pclass_test_dummies.columns = ['Class 1', 'Class 2', 'Class 3']\n",
    "\n",
    "pclass_train_dummies.drop('Class 3', inplace=1, axis=1)\n",
    "pclass_test_dummies.drop('Class 3', inplace=1, axis=1)\n",
    "\n",
    "train_data_cleared.drop('Pclass', axis=1, inplace=1)\n",
    "test_data_cleared.drop('Pclass', axis=1, inplace=1)\n",
    "\n",
    "train_data_cleared = train_data_cleared.join(pclass_train_dummies)\n",
    "test_data_cleared = test_data_cleared.join(pclass_test_dummies)\n",
    "#note: for some reason I get here key error sometimes (using notebook on Kaggle), after\n",
    "# running all cells once more everything works well"
   ]
  },
  {
   "cell_type": "code",
   "execution_count": 96,
   "metadata": {
    "collapsed": true
   },
   "outputs": [],
   "source": [
    "#Embarkation port\n",
    "embarkation_train_dummies = pd.get_dummies(train_data_cleared['Embarked'])\n",
    "embarkation_test_dummies = pd.get_dummies(test_data_cleared['Embarked'])\n",
    "\n",
    "embarkation_train_dummies.columns = ['C', 'Q', 'S']\n",
    "embarkation_test_dummies.columns = ['C', 'Q', 'S']\n",
    "\n",
    "embarkation_train_dummies.drop('S', inplace=1, axis=1)\n",
    "embarkation_test_dummies.drop('S', inplace=1, axis=1)\n",
    "\n",
    "train_data_cleared.drop('Embarked', axis=1, inplace=1)\n",
    "test_data_cleared.drop('Embarked', axis=1, inplace=1)\n",
    "\n",
    "train_data_cleared = train_data_cleared.join(embarkation_train_dummies)\n",
    "test_data_cleared = test_data_cleared.join(embarkation_test_dummies)"
   ]
  },
  {
   "cell_type": "code",
   "execution_count": 97,
   "metadata": {
    "collapsed": true
   },
   "outputs": [],
   "source": [
    "# 'Sex'  (in apostrophes because of that column naming when it actually contains child either ^^)\n",
    "sex_train_dummies = pd.get_dummies(train_data_cleared['Sex'])\n",
    "sex_test_dummies = pd.get_dummies(test_data_cleared['Sex'])\n",
    "\n",
    "# sex_train_dummies.columns = [''] well earlier it was easy but how are these values in alphabetical\n",
    "# order or maybe some different one?\n",
    "# print(train_data_cleared.head(10))\n",
    "# print(sex_train_dummies.head(10))\n",
    "# after check: yes it is alphabetical\n",
    "\n",
    "sex_train_dummies.columns = ['child', 'female', 'male']\n",
    "sex_test_dummies.columns = ['child', 'female', 'male']\n",
    "\n",
    "sex_train_dummies.drop('male', axis=1, inplace=1)\n",
    "sex_test_dummies.drop('male', axis=1, inplace=1)\n",
    "\n",
    "train_data_cleared.drop('Sex', axis=1, inplace=1)\n",
    "test_data_cleared.drop('Sex', axis=1, inplace=1)\n",
    "\n",
    "train_data_cleared = train_data_cleared.join(sex_train_dummies)\n",
    "test_data_cleared = test_data_cleared.join(sex_test_dummies)"
   ]
  },
  {
   "cell_type": "code",
   "execution_count": 98,
   "metadata": {
    "collapsed": false
   },
   "outputs": [
    {
     "name": "stdout",
     "output_type": "stream",
     "text": [
      "   Survived  Age     Fare  FamMembers  Class 1  Class 2  C  Q  child  female\n",
      "0         0   22   7.2500           1        0        0  0  0      0       0\n",
      "1         1   38  71.2833           1        1        0  1  0      0       1\n",
      "2         1   26   7.9250           0        0        0  0  0      0       1\n",
      "3         1   35  53.1000           1        1        0  0  0      0       1\n",
      "4         0   35   8.0500           0        0        0  0  0      0       0\n",
      "5         0   32   8.4583           0        0        0  0  1      0       0\n",
      "6         0   54  51.8625           0        1        0  0  0      0       0\n",
      "7         0    2  21.0750           4        0        0  0  0      1       0\n",
      "8         1   27  11.1333           2        0        0  0  0      0       1\n",
      "9         1   14  30.0708           1        0        1  1  0      1       0\n",
      "   Age     Fare  FamMembers  Class 1  Class 2  C  Q  child  female\n",
      "0   34   7.8292           0        0        0  0  1      0       0\n",
      "1   47   7.0000           1        0        0  0  0      0       1\n",
      "2   62   9.6875           0        0        1  0  1      0       0\n",
      "3   27   8.6625           0        0        0  0  0      0       0\n",
      "4   22  12.2875           2        0        0  0  0      0       1\n",
      "5   14   9.2250           0        0        0  0  0      1       0\n",
      "6   30   7.6292           0        0        0  0  1      0       1\n",
      "7   26  29.0000           2        0        1  0  0      0       0\n",
      "8   18   7.2292           0        0        0  1  0      0       1\n",
      "9   21  24.1500           2        0        0  0  0      0       0\n"
     ]
    }
   ],
   "source": [
    "# And quick look to check if everything was done ok:\n",
    "print(train_data_cleared.head(10))\n",
    "print(test_data_cleared.head(10))"
   ]
  },
  {
   "cell_type": "code",
   "execution_count": 99,
   "metadata": {
    "collapsed": true
   },
   "outputs": [],
   "source": [
    "# Preparing finally done\n",
    "# Now I will split train dataset into train/test set and test it against some models,\n",
    "# depending on results I will pick the best, then train it again with all my data and use\n",
    "# it on final test set from test.csv\n",
    "from sklearn.model_selection import train_test_split\n",
    "\n",
    "X_train, X_test, Y_train, Y_test = train_test_split(train_data_cleared.drop('Survived', axis=1), \n",
    "                                                   train_data_cleared['Survived'], test_size=0.17,\n",
    "                                                   random_state=0)"
   ]
  },
  {
   "cell_type": "code",
   "execution_count": 100,
   "metadata": {
    "collapsed": true
   },
   "outputs": [],
   "source": [
    "# Like i mentioned I'm a newbie so I will test as many models as posible just out of curiosity\n",
    "from sklearn.linear_model import LogisticRegression\n",
    "from sklearn.svm import SVC, LinearSVC\n",
    "from sklearn.naive_bayes import GaussianNB\n",
    "from sklearn.neighbors import KNeighborsClassifier\n",
    "from sklearn.tree import DecisionTreeClassifier\n",
    "from sklearn.ensemble import RandomForestClassifier"
   ]
  },
  {
   "cell_type": "code",
   "execution_count": 101,
   "metadata": {
    "collapsed": false
   },
   "outputs": [
    {
     "data": {
      "text/plain": [
       "0.82894736842105265"
      ]
     },
     "execution_count": 101,
     "metadata": {},
     "output_type": "execute_result"
    }
   ],
   "source": [
    "# Logisitic Regression\n",
    "logistic_regression = LogisticRegression()\n",
    "logistic_regression.fit(X_train, Y_train)\n",
    "logistic_regression.score(X_test, Y_test)"
   ]
  },
  {
   "cell_type": "code",
   "execution_count": 102,
   "metadata": {
    "collapsed": true
   },
   "outputs": [],
   "source": [
    "# Wohoo, something works :D\n",
    "# Whats more, it is actually better than a monkey (which would pick at random with 50% chances) :D\n",
    "# But lets test out other imported models"
   ]
  },
  {
   "cell_type": "code",
   "execution_count": 103,
   "metadata": {
    "collapsed": false
   },
   "outputs": [
    {
     "data": {
      "text/plain": [
       "0.71710526315789469"
      ]
     },
     "execution_count": 103,
     "metadata": {},
     "output_type": "execute_result"
    }
   ],
   "source": [
    "# SVC\n",
    "svc = SVC()\n",
    "svc.fit(X_train, Y_train)\n",
    "svc.score(X_test, Y_test)"
   ]
  },
  {
   "cell_type": "code",
   "execution_count": 104,
   "metadata": {
    "collapsed": false
   },
   "outputs": [
    {
     "data": {
      "text/plain": [
       "0.73026315789473684"
      ]
     },
     "execution_count": 104,
     "metadata": {},
     "output_type": "execute_result"
    }
   ],
   "source": [
    "# linear SVC\n",
    "linear_svc = LinearSVC()\n",
    "linear_svc.fit(X_train, Y_train)\n",
    "linear_svc.score(X_test, Y_test)"
   ]
  },
  {
   "cell_type": "code",
   "execution_count": 105,
   "metadata": {
    "collapsed": true
   },
   "outputs": [],
   "source": [
    "# Well, Support Vector Classification gives worse results, but let's move on"
   ]
  },
  {
   "cell_type": "code",
   "execution_count": 106,
   "metadata": {
    "collapsed": false
   },
   "outputs": [
    {
     "data": {
      "text/plain": [
       "0.82236842105263153"
      ]
     },
     "execution_count": 106,
     "metadata": {},
     "output_type": "execute_result"
    }
   ],
   "source": [
    "# Gaussian Naive Bayes\n",
    "gaussian_NB = GaussianNB()\n",
    "gaussian_NB.fit(X_train, Y_train)\n",
    "gaussian_NB.score(X_test, Y_test)"
   ]
  },
  {
   "cell_type": "code",
   "execution_count": 107,
   "metadata": {
    "collapsed": false
   },
   "outputs": [
    {
     "data": {
      "text/plain": [
       "0.73684210526315785"
      ]
     },
     "execution_count": 107,
     "metadata": {},
     "output_type": "execute_result"
    }
   ],
   "source": [
    "# K nearest neighbors\n",
    "knn_classifier = KNeighborsClassifier()\n",
    "knn_classifier.fit(X_train, Y_train)\n",
    "knn_classifier.score(X_test, Y_test)"
   ]
  },
  {
   "cell_type": "code",
   "execution_count": 108,
   "metadata": {
    "collapsed": false
   },
   "outputs": [
    {
     "data": {
      "text/plain": [
       "0.78289473684210531"
      ]
     },
     "execution_count": 108,
     "metadata": {},
     "output_type": "execute_result"
    }
   ],
   "source": [
    "# Deision Tree\n",
    "dtree_classifier = DecisionTreeClassifier()\n",
    "dtree_classifier.fit(X_train, Y_train)\n",
    "dtree_classifier.score(X_test, Y_test)"
   ]
  },
  {
   "cell_type": "code",
   "execution_count": 109,
   "metadata": {
    "collapsed": false
   },
   "outputs": [
    {
     "data": {
      "text/plain": [
       "0.84868421052631582"
      ]
     },
     "execution_count": 109,
     "metadata": {},
     "output_type": "execute_result"
    }
   ],
   "source": [
    "# And last but not least, classifier that will probably have the best output\n",
    "# Random Forest\n",
    "rand_forest_classifier = RandomForestClassifier(n_estimators=200)\n",
    "rand_forest_classifier.fit(X_train, Y_train)\n",
    "rand_forest_classifier.score(X_test, Y_test)"
   ]
  },
  {
   "cell_type": "code",
   "execution_count": 110,
   "metadata": {
    "collapsed": true
   },
   "outputs": [],
   "source": [
    "# Well, around 84-85, which is not so bad I think\n",
    "# (and definitely better that mentioned earlier monkey :D)"
   ]
  },
  {
   "cell_type": "code",
   "execution_count": 111,
   "metadata": {
    "collapsed": true
   },
   "outputs": [],
   "source": [
    "# Time for final results"
   ]
  },
  {
   "cell_type": "code",
   "execution_count": 112,
   "metadata": {
    "collapsed": false
   },
   "outputs": [
    {
     "data": {
      "text/plain": [
       "array([0, 0, 0, 1, 1, 0, 0, 0, 1, 0, 0, 0, 1, 0, 1, 1, 0, 1, 0, 0, 0, 0, 1,\n",
       "       1, 1, 0, 1, 1, 1, 0, 0, 0, 1, 0, 1, 1, 0, 0, 0, 1, 0, 1, 0, 1, 1, 0,\n",
       "       1, 0, 1, 1, 0, 0, 1, 1, 0, 0, 0, 0, 0, 1, 0, 0, 0, 1, 0, 1, 1, 0, 0,\n",
       "       1, 1, 0, 0, 0, 1, 0, 0, 1, 0, 1, 1, 0, 0, 0, 0, 0, 1, 0, 0, 1, 0, 0,\n",
       "       1, 0, 0, 0, 1, 0, 1, 0, 1, 0, 0, 0, 0, 0, 0, 0, 0, 0, 0, 0, 1, 1, 1,\n",
       "       0, 0, 1, 0, 1, 1, 0, 1, 0, 0, 0, 0, 1, 0, 0, 0, 0, 0, 0, 0, 0, 0, 0,\n",
       "       0, 0, 0, 1, 0, 0, 1, 0, 0, 0, 1, 0, 1, 0, 0, 1, 0, 0, 1, 1, 1, 0, 0,\n",
       "       1, 1, 0, 0, 1, 0, 0, 1, 0, 0, 0, 0, 0, 0, 1, 1, 0, 1, 1, 0, 1, 1, 0,\n",
       "       1, 0, 1, 0, 0, 0, 0, 0, 1, 0, 1, 0, 1, 0, 0, 0, 1, 1, 0, 1, 0, 0, 0,\n",
       "       0, 1, 0, 0, 0, 0, 1, 0, 0, 0, 0, 1, 0, 1, 0, 1, 1, 1, 1, 0, 0, 0, 0,\n",
       "       1, 1, 0, 0, 1, 0, 0, 1, 1, 1, 1, 1, 0, 0, 1, 0, 1, 0, 1, 0, 1, 0, 0,\n",
       "       0, 0, 0, 0, 0, 1, 0, 0, 0, 1, 1, 0, 0, 0, 0, 0, 0, 0, 0, 1, 1, 0, 1,\n",
       "       0, 0, 0, 0, 0, 1, 0, 0, 1, 0, 0, 0, 0, 0, 0, 0, 0, 0, 0, 0, 1, 0, 0,\n",
       "       0, 0, 0, 0, 0, 0, 1, 1, 0, 0, 0, 0, 1, 0, 0, 1, 1, 0, 0, 0, 0, 0, 0,\n",
       "       0, 1, 1, 0, 1, 0, 0, 0, 1, 1, 0, 0, 0, 0, 1, 0, 0, 1, 0, 0, 0, 1, 1,\n",
       "       1, 0, 0, 0, 1, 1, 0, 0, 0, 1, 0, 1, 0, 0, 1, 0, 1, 1, 1, 1, 0, 0, 1,\n",
       "       1, 0, 0, 1, 0, 0, 1, 1, 0, 0, 0, 1, 0, 0, 1, 0, 1, 1, 0, 0, 0, 0, 0,\n",
       "       1, 1, 0, 0, 1, 0, 1, 0, 0, 1, 0, 1, 0, 0, 0, 0, 0, 0, 1, 0, 1, 0, 0,\n",
       "       1, 0, 0, 1], dtype=int64)"
      ]
     },
     "execution_count": 112,
     "metadata": {},
     "output_type": "execute_result"
    }
   ],
   "source": [
    "rand_forest_classifier = RandomForestClassifier(n_estimators=200)\n",
    "rand_forest_classifier.fit(train_data_cleared.drop('Survived', axis=1), train_data_cleared['Survived'])\n",
    "results = rand_forest_classifier.predict(test_data_cleared)\n",
    "results"
   ]
  },
  {
   "cell_type": "code",
   "execution_count": 113,
   "metadata": {
    "collapsed": true
   },
   "outputs": [],
   "source": [
    "# description says submission should be in PassngerId, Predicted Survival output, so ordinary join\n",
    "# of pandas df will do the work\n",
    "results_df = pd.DataFrame({'PassengerId': test_data['PassengerId'], 'Survived': results})\n",
    "#print(test_data_cleared.head(50))\n",
    "#print(results_df.head(50))\n",
    "results_df.to_csv('titanic_results.csv', index=False)"
   ]
  },
  {
   "cell_type": "code",
   "execution_count": 114,
   "metadata": {
    "collapsed": false
   },
   "outputs": [
    {
     "data": {
      "text/plain": [
       "0.84868421052631582"
      ]
     },
     "execution_count": 114,
     "metadata": {},
     "output_type": "execute_result"
    }
   ],
   "source": [
    "# test\n",
    "rand_forest_classifier = RandomForestClassifier(n_estimators=200, max_depth=10)\n",
    "rand_forest_classifier.fit(X_train, Y_train)\n",
    "rand_forest_classifier.score(X_test, Y_test)"
   ]
  },
  {
   "cell_type": "code",
   "execution_count": 115,
   "metadata": {
    "collapsed": false
   },
   "outputs": [
    {
     "name": "stdout",
     "output_type": "stream",
     "text": [
      "Feature ranking:\n",
      "1. feature 8 (0.268539)\n",
      "2. feature 1 (0.237931)\n",
      "3. feature 0 (0.225362)\n",
      "4. feature 2 (0.098591)\n",
      "5. feature 3 (0.051620)\n",
      "6. feature 7 (0.040358)\n",
      "7. feature 4 (0.040145)\n",
      "8. feature 5 (0.021342)\n",
      "9. feature 6 (0.016112)\n"
     ]
    },
    {
     "data": {
      "image/png": "[encoded data removed]",
      "text/plain": [
       "<matplotlib.figure.Figure at 0x1b79fd28d30>"
      ]
     },
     "metadata": {},
     "output_type": "display_data"
    }
   ],
   "source": [
    "# We have model and predictions already, now out of curiosity a little check of features importance\n",
    "importances = rand_forest_classifier.feature_importances_\n",
    "std = np.std([tree.feature_importances_ for tree in rand_forest_classifier.estimators_],\n",
    "             axis=0)\n",
    "indices = np.argsort(importances)[::-1]\n",
    "\n",
    "# Print the feature ranking\n",
    "print(\"Feature ranking:\")\n",
    "\n",
    "for f in range(X_train.shape[1]):\n",
    "    print(\"%d. feature %d (%f)\" % (f + 1, indices[f], importances[indices[f]]))\n",
    "# Plot the feature importances of the forest\n",
    "plt.figure()\n",
    "plt.title(\"Feature importances\")\n",
    "plt.bar(range(X_train.shape[1]), importances[indices],\n",
    "       color=\"r\", yerr=std[indices], align=\"center\")\n",
    "plt.xticks(range(X_train.shape[1]), indices)\n",
    "plt.xlim([-1, X_train.shape[1]])\n",
    "plt.show()"
   ]
  }
 ],
 "metadata": {
  "anaconda-cloud": {},
  "kernelspec": {
   "display_name": "Python [default]",
   "language": "python",
   "name": "python3"
  },
  "language_info": {
   "codemirror_mode": {
    "name": "ipython",
    "version": 3
   },
   "file_extension": ".py",
   "mimetype": "text/x-python",
   "name": "python",
   "nbconvert_exporter": "python",
   "pygments_lexer": "ipython3",
   "version": "3.5.2"
  }
 },
 "nbformat": 4,
 "nbformat_minor": 0
}
