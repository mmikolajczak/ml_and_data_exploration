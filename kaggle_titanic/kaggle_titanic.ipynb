{
 "cells": [
  {
   "cell_type": "code",
   "execution_count": 331,
   "metadata": {
    "collapsed": false
   },
   "outputs": [],
   "source": [
    "# This notebook contain my solution to Titanic: Machine Learning from Disaster (Kaggle 'starter' competition)\n",
    "# Data can be found here: https://www.kaggle.com/c/titanic/data\n",
    "# I know that my work may be quite far from ideal, as I am rather a beginner - but if you decide to actually read/analyse it\n",
    "# then I hope that it will be somehow useful.\n",
    "# Ok, let's say 'Hello World' to Kaggle :D\n",
    "\n",
    "# First, libraries import\n",
    "import numpy as np\n",
    "import pandas as pd\n",
    "import seaborn as sns\n",
    "import matplotlib.pyplot as plt\n",
    "%matplotlib inline\n"
   ]
  },
  {
   "cell_type": "code",
   "execution_count": 332,
   "metadata": {
    "collapsed": false
   },
   "outputs": [],
   "source": [
    "# Loading data\n",
    "train_data = pd.read_csv('./input/train.csv')\n",
    "test_data = pd.read_csv('./input/test.csv')"
   ]
  },
  {
   "cell_type": "code",
   "execution_count": 333,
   "metadata": {
    "collapsed": false
   },
   "outputs": [
    {
     "data": {
      "text/html": [
       "<div>\n",
       "<table border=\"1\" class=\"dataframe\">\n",
       "  <thead>\n",
       "    <tr style=\"text-align: right;\">\n",
       "      <th></th>\n",
       "      <th>PassengerId</th>\n",
       "      <th>Survived</th>\n",
       "      <th>Pclass</th>\n",
       "      <th>Name</th>\n",
       "      <th>Sex</th>\n",
       "      <th>Age</th>\n",
       "      <th>SibSp</th>\n",
       "      <th>Parch</th>\n",
       "      <th>Ticket</th>\n",
       "      <th>Fare</th>\n",
       "      <th>Cabin</th>\n",
       "      <th>Embarked</th>\n",
       "    </tr>\n",
       "  </thead>\n",
       "  <tbody>\n",
       "    <tr>\n",
       "      <th>0</th>\n",
       "      <td>1</td>\n",
       "      <td>0</td>\n",
       "      <td>3</td>\n",
       "      <td>Braund, Mr. Owen Harris</td>\n",
       "      <td>male</td>\n",
       "      <td>22.0</td>\n",
       "      <td>1</td>\n",
       "      <td>0</td>\n",
       "      <td>A/5 21171</td>\n",
       "      <td>7.2500</td>\n",
       "      <td>NaN</td>\n",
       "      <td>S</td>\n",
       "    </tr>\n",
       "    <tr>\n",
       "      <th>1</th>\n",
       "      <td>2</td>\n",
       "      <td>1</td>\n",
       "      <td>1</td>\n",
       "      <td>Cumings, Mrs. John Bradley (Florence Briggs Th...</td>\n",
       "      <td>female</td>\n",
       "      <td>38.0</td>\n",
       "      <td>1</td>\n",
       "      <td>0</td>\n",
       "      <td>PC 17599</td>\n",
       "      <td>71.2833</td>\n",
       "      <td>C85</td>\n",
       "      <td>C</td>\n",
       "    </tr>\n",
       "    <tr>\n",
       "      <th>2</th>\n",
       "      <td>3</td>\n",
       "      <td>1</td>\n",
       "      <td>3</td>\n",
       "      <td>Heikkinen, Miss. Laina</td>\n",
       "      <td>female</td>\n",
       "      <td>26.0</td>\n",
       "      <td>0</td>\n",
       "      <td>0</td>\n",
       "      <td>STON/O2. 3101282</td>\n",
       "      <td>7.9250</td>\n",
       "      <td>NaN</td>\n",
       "      <td>S</td>\n",
       "    </tr>\n",
       "    <tr>\n",
       "      <th>3</th>\n",
       "      <td>4</td>\n",
       "      <td>1</td>\n",
       "      <td>1</td>\n",
       "      <td>Futrelle, Mrs. Jacques Heath (Lily May Peel)</td>\n",
       "      <td>female</td>\n",
       "      <td>35.0</td>\n",
       "      <td>1</td>\n",
       "      <td>0</td>\n",
       "      <td>113803</td>\n",
       "      <td>53.1000</td>\n",
       "      <td>C123</td>\n",
       "      <td>S</td>\n",
       "    </tr>\n",
       "    <tr>\n",
       "      <th>4</th>\n",
       "      <td>5</td>\n",
       "      <td>0</td>\n",
       "      <td>3</td>\n",
       "      <td>Allen, Mr. William Henry</td>\n",
       "      <td>male</td>\n",
       "      <td>35.0</td>\n",
       "      <td>0</td>\n",
       "      <td>0</td>\n",
       "      <td>373450</td>\n",
       "      <td>8.0500</td>\n",
       "      <td>NaN</td>\n",
       "      <td>S</td>\n",
       "    </tr>\n",
       "    <tr>\n",
       "      <th>5</th>\n",
       "      <td>6</td>\n",
       "      <td>0</td>\n",
       "      <td>3</td>\n",
       "      <td>Moran, Mr. James</td>\n",
       "      <td>male</td>\n",
       "      <td>NaN</td>\n",
       "      <td>0</td>\n",
       "      <td>0</td>\n",
       "      <td>330877</td>\n",
       "      <td>8.4583</td>\n",
       "      <td>NaN</td>\n",
       "      <td>Q</td>\n",
       "    </tr>\n",
       "    <tr>\n",
       "      <th>6</th>\n",
       "      <td>7</td>\n",
       "      <td>0</td>\n",
       "      <td>1</td>\n",
       "      <td>McCarthy, Mr. Timothy J</td>\n",
       "      <td>male</td>\n",
       "      <td>54.0</td>\n",
       "      <td>0</td>\n",
       "      <td>0</td>\n",
       "      <td>17463</td>\n",
       "      <td>51.8625</td>\n",
       "      <td>E46</td>\n",
       "      <td>S</td>\n",
       "    </tr>\n",
       "    <tr>\n",
       "      <th>7</th>\n",
       "      <td>8</td>\n",
       "      <td>0</td>\n",
       "      <td>3</td>\n",
       "      <td>Palsson, Master. Gosta Leonard</td>\n",
       "      <td>male</td>\n",
       "      <td>2.0</td>\n",
       "      <td>3</td>\n",
       "      <td>1</td>\n",
       "      <td>349909</td>\n",
       "      <td>21.0750</td>\n",
       "      <td>NaN</td>\n",
       "      <td>S</td>\n",
       "    </tr>\n",
       "    <tr>\n",
       "      <th>8</th>\n",
       "      <td>9</td>\n",
       "      <td>1</td>\n",
       "      <td>3</td>\n",
       "      <td>Johnson, Mrs. Oscar W (Elisabeth Vilhelmina Berg)</td>\n",
       "      <td>female</td>\n",
       "      <td>27.0</td>\n",
       "      <td>0</td>\n",
       "      <td>2</td>\n",
       "      <td>347742</td>\n",
       "      <td>11.1333</td>\n",
       "      <td>NaN</td>\n",
       "      <td>S</td>\n",
       "    </tr>\n",
       "    <tr>\n",
       "      <th>9</th>\n",
       "      <td>10</td>\n",
       "      <td>1</td>\n",
       "      <td>2</td>\n",
       "      <td>Nasser, Mrs. Nicholas (Adele Achem)</td>\n",
       "      <td>female</td>\n",
       "      <td>14.0</td>\n",
       "      <td>1</td>\n",
       "      <td>0</td>\n",
       "      <td>237736</td>\n",
       "      <td>30.0708</td>\n",
       "      <td>NaN</td>\n",
       "      <td>C</td>\n",
       "    </tr>\n",
       "  </tbody>\n",
       "</table>\n",
       "</div>"
      ],
      "text/plain": [
       "   PassengerId  Survived  Pclass  \\\n",
       "0            1         0       3   \n",
       "1            2         1       1   \n",
       "2            3         1       3   \n",
       "3            4         1       1   \n",
       "4            5         0       3   \n",
       "5            6         0       3   \n",
       "6            7         0       1   \n",
       "7            8         0       3   \n",
       "8            9         1       3   \n",
       "9           10         1       2   \n",
       "\n",
       "                                                Name     Sex   Age  SibSp  \\\n",
       "0                            Braund, Mr. Owen Harris    male  22.0      1   \n",
       "1  Cumings, Mrs. John Bradley (Florence Briggs Th...  female  38.0      1   \n",
       "2                             Heikkinen, Miss. Laina  female  26.0      0   \n",
       "3       Futrelle, Mrs. Jacques Heath (Lily May Peel)  female  35.0      1   \n",
       "4                           Allen, Mr. William Henry    male  35.0      0   \n",
       "5                                   Moran, Mr. James    male   NaN      0   \n",
       "6                            McCarthy, Mr. Timothy J    male  54.0      0   \n",
       "7                     Palsson, Master. Gosta Leonard    male   2.0      3   \n",
       "8  Johnson, Mrs. Oscar W (Elisabeth Vilhelmina Berg)  female  27.0      0   \n",
       "9                Nasser, Mrs. Nicholas (Adele Achem)  female  14.0      1   \n",
       "\n",
       "   Parch            Ticket     Fare Cabin Embarked  \n",
       "0      0         A/5 21171   7.2500   NaN        S  \n",
       "1      0          PC 17599  71.2833   C85        C  \n",
       "2      0  STON/O2. 3101282   7.9250   NaN        S  \n",
       "3      0            113803  53.1000  C123        S  \n",
       "4      0            373450   8.0500   NaN        S  \n",
       "5      0            330877   8.4583   NaN        Q  \n",
       "6      0             17463  51.8625   E46        S  \n",
       "7      1            349909  21.0750   NaN        S  \n",
       "8      2            347742  11.1333   NaN        S  \n",
       "9      0            237736  30.0708   NaN        C  "
      ]
     },
     "execution_count": 333,
     "metadata": {},
     "output_type": "execute_result"
    }
   ],
   "source": [
    "# Data preview\n",
    "sns.set_style('whitegrid')\n",
    "train_data.head(10)"
   ]
  },
  {
   "cell_type": "code",
   "execution_count": 334,
   "metadata": {
    "collapsed": false
   },
   "outputs": [
    {
     "name": "stdout",
     "output_type": "stream",
     "text": [
      "<class 'pandas.core.frame.DataFrame'>\n",
      "RangeIndex: 891 entries, 0 to 890\n",
      "Data columns (total 12 columns):\n",
      "PassengerId    891 non-null int64\n",
      "Survived       891 non-null int64\n",
      "Pclass         891 non-null int64\n",
      "Name           891 non-null object\n",
      "Sex            891 non-null object\n",
      "Age            714 non-null float64\n",
      "SibSp          891 non-null int64\n",
      "Parch          891 non-null int64\n",
      "Ticket         891 non-null object\n",
      "Fare           891 non-null float64\n",
      "Cabin          204 non-null object\n",
      "Embarked       889 non-null object\n",
      "dtypes: float64(2), int64(5), object(5)\n",
      "memory usage: 83.6+ KB\n"
     ]
    }
   ],
   "source": [
    "train_data.info()"
   ]
  },
  {
   "cell_type": "code",
   "execution_count": 335,
   "metadata": {
    "collapsed": true
   },
   "outputs": [],
   "source": [
    "# We can see that some columns have missing values - that needs to be dealt with, some columns clearly\n",
    "# do not affect chances of survival - ticket number for example.\n",
    "# PassangerId is probably index from database and can be dropped too.\n",
    "# Cabin number is another candidate to drop - not only because its usabilty but also high number of \n",
    "# missing values, which is 687 out of 891, ~77%.\n",
    "# Embarked misses some values too and port of embarkation does not seem to be useful in prediction\n",
    "# but that will be investigated first.\n",
    "# Name will be dropped aswell (although later as it might be useful in dealing with Age missing values)."
   ]
  },
  {
   "cell_type": "code",
   "execution_count": 336,
   "metadata": {
    "collapsed": true
   },
   "outputs": [],
   "source": [
    "train_data_cleared = train_data.drop(['PassengerId', 'Ticket', 'Cabin'], axis=1)"
   ]
  },
  {
   "cell_type": "code",
   "execution_count": 337,
   "metadata": {
    "collapsed": false
   },
   "outputs": [
    {
     "data": {
      "text/plain": [
       "Embarked\n",
       "C    168\n",
       "Q     77\n",
       "S    644\n",
       "dtype: int64"
      ]
     },
     "execution_count": 337,
     "metadata": {},
     "output_type": "execute_result"
    }
   ],
   "source": [
    "# Embarked has only two missing values - such low amount can be replaced by the most frequent one\n",
    "embarked_counts = train_data_cleared.groupby(\"Embarked\").size()\n",
    "embarked_counts"
   ]
  },
  {
   "cell_type": "code",
   "execution_count": 338,
   "metadata": {
    "collapsed": false
   },
   "outputs": [],
   "source": [
    "# As we can see from above the most frequent one was Southampton\n",
    "train_data_cleared[\"Embarked\"] = train_data_cleared[\"Embarked\"].fillna('S')"
   ]
  },
  {
   "cell_type": "code",
   "execution_count": 339,
   "metadata": {
    "collapsed": false
   },
   "outputs": [
    {
     "data": {
      "image/png": "[encoded data removed]",
      "text/plain": [
       "<matplotlib.figure.Figure at 0x28b8591fc88>"
      ]
     },
     "metadata": {},
     "output_type": "display_data"
    }
   ],
   "source": [
    "# Now we can do some visualization and see how embarkation port affects chances of survival\n",
    "fig = plt.figure(figsize=(12, 4))\n",
    "\n",
    "ax1 = fig.add_subplot(1, 3, 1)\n",
    "ax1.set_title(\"Counts by embarkation\")\n",
    "sns.countplot(x='Embarked', data=train_data_cleared, ax=ax1)\n",
    "\n",
    "ax2 = fig.add_subplot(1, 3, 2)\n",
    "ax2.set_title('Survived counts by embarkation')\n",
    "sns.countplot(x='Embarked', hue='Survived', data=train_data_cleared, ax=ax2)\n",
    "# At this subplot we can see that people who embarked at Cherbourg survived more frequently than others\n",
    "\n",
    "ax3 = fig.add_subplot(1, 3, 3)\n",
    "ax3.set_title('Survival ratio by embrakation [%]')\n",
    "\n",
    "surv_ratio_percentage = train_data_cleared[['Embarked', 'Survived']].groupby(\n",
    "    'Embarked', as_index=False).mean()\n",
    "# Due to [0,1] values in survived mean is simply percentage of survived - only thing left is\n",
    "# to transorm it into percents\n",
    "surv_ratio_percentage['Survived'] = surv_ratio_percentage['Survived'] * 100  \n",
    "sns.barplot(x=\"Embarked\", y='Survived', data=surv_ratio_percentage, ax=ax3)\n",
    "   \n",
    "plt.show()"
   ]
  },
  {
   "cell_type": "code",
   "execution_count": 340,
   "metadata": {
    "collapsed": false
   },
   "outputs": [
    {
     "data": {
      "text/plain": [
       "<seaborn.axisgrid.FacetGrid at 0x28b85922ba8>"
      ]
     },
     "execution_count": 340,
     "metadata": {},
     "output_type": "execute_result"
    },
    {
     "data": {
      "image/png": "[encoded data removed]",
      "text/plain": [
       "<matplotlib.figure.Figure at 0x28b85922c18>"
      ]
     },
     "metadata": {},
     "output_type": "display_data"
    }
   ],
   "source": [
    "# To sum up - mean of survival by class:\n",
    "sns.factorplot('Embarked', 'Survived', data=train_data_cleared, size=3.5, aspect=3)"
   ]
  },
  {
   "cell_type": "code",
   "execution_count": 341,
   "metadata": {
    "collapsed": true
   },
   "outputs": [],
   "source": [
    "# Looks like embarkation category may affects survival ratio and therefore won't be discarded.\n",
    "# Maybe passengers embarked in that city had cabins in some place closer to lifeboats?\n",
    "# Next thing to analyse is passenger class and fare he paid.\n",
    "# It is almost sure that passengers from higher class will have better chances of survival - \n",
    "# the question that comes to my mind is if among class the ones that paid more were prioritized to\n",
    "# rescue even in comparision to rest in the same class?\n",
    "# (if so, it may be that it occurs only in 1st. class)"
   ]
  },
  {
   "cell_type": "code",
   "execution_count": 342,
   "metadata": {
    "collapsed": false
   },
   "outputs": [
    {
     "data": {
      "text/plain": [
       "<matplotlib.axes._subplots.AxesSubplot at 0x28b87116908>"
      ]
     },
     "execution_count": 342,
     "metadata": {},
     "output_type": "execute_result"
    },
    {
     "data": {
      "image/png": "[encoded data removed]",
      "text/plain": [
       "<matplotlib.figure.Figure at 0x28b85c3a780>"
      ]
     },
     "metadata": {},
     "output_type": "display_data"
    }
   ],
   "source": [
    "# Checking survival rate by pclass is similar to embarkation but code has some improvements\n",
    "fig, (ax1, ax2, ax3) = plt.subplots(1, 3, figsize=(12, 4))\n",
    "\n",
    "ax1.set_title('Counts by Pclass')\n",
    "sns.countplot(x=\"Pclass\", data=train_data_cleared, ax=ax1)\n",
    "\n",
    "ax2.set_title('Survived counts by Pclass')\n",
    "sns.countplot(x=\"Pclass\", hue='Survived', data=train_data_cleared, ax=ax2)\n",
    "\n",
    "ax3.set_title('Survived counts by Pclass [%]')\n",
    "pclasses_percentage = train_data_cleared[['Pclass', 'Survived']].groupby(\n",
    "    'Pclass', as_index=False).mean()\n",
    "# Due to [0,1] values in survived mean is simply percentage of survived - only thing left is\n",
    "# to transorm it into percents\n",
    "pclasses_percentage['Survived'] = pclasses_percentage['Survived'] * 100    \n",
    "sns.barplot(x=\"Pclass\", y='Survived', data=pclasses_percentage, ax=ax3)"
   ]
  },
  {
   "cell_type": "code",
   "execution_count": 343,
   "metadata": {
    "collapsed": true
   },
   "outputs": [],
   "source": [
    "# Results are rather not surprising - the higher passenger class the higher survival rate.\n",
    "# Survival rate in 1st. class is similar to the one of passengers embarked in Southampton\n",
    "# - checked out of curiosity if the reason was that most of 1st. passengers embarked there but\n",
    "# it is not the case according to data on wikipedia."
   ]
  },
  {
   "cell_type": "code",
   "execution_count": 344,
   "metadata": {
    "collapsed": false
   },
   "outputs": [
    {
     "data": {
      "text/plain": [
       "<matplotlib.axes._subplots.AxesSubplot at 0x28b85c52550>"
      ]
     },
     "execution_count": 344,
     "metadata": {},
     "output_type": "execute_result"
    },
    {
     "data": {
      "image/png": "[encoded data removed]",
      "text/plain": [
       "<matplotlib.figure.Figure at 0x28b85932320>"
      ]
     },
     "metadata": {},
     "output_type": "display_data"
    }
   ],
   "source": [
    "# Moving on to analyse fares\n",
    "fig, ax = plt.subplots(1, 1, figsize=(12, 4))\n",
    "ax.set_title('Counts of fares ranges')\n",
    "\n",
    "train_data_cleared[\"Fare\"].plot(kind='hist', bins=100, xlim=(0, 100))\n",
    "# There were few cases with fare above 100$ but it was only around 10 persons,\n",
    "# that at the same time were making histogram really hard to read - so the limit was used."
   ]
  },
  {
   "cell_type": "code",
   "execution_count": 345,
   "metadata": {
    "collapsed": false
   },
   "outputs": [
    {
     "name": "stderr",
     "output_type": "stream",
     "text": [
      "C:\\Users\\ja\\Anaconda3\\lib\\site-packages\\ipykernel\\__main__.py:4: SettingWithCopyWarning: \n",
      "A value is trying to be set on a copy of a slice from a DataFrame.\n",
      "Try using .loc[row_indexer,col_indexer] = value instead\n",
      "\n",
      "See the caveats in the documentation: http://pandas.pydata.org/pandas-docs/stable/indexing.html#indexing-view-versus-copy\n"
     ]
    },
    {
     "data": {
      "image/png": "[encoded data removed]",
      "text/plain": [
       "<matplotlib.figure.Figure at 0x28b87351a58>"
      ]
     },
     "metadata": {},
     "output_type": "display_data"
    }
   ],
   "source": [
    "# But how the fare corresponds to survivability?\n",
    "\n",
    "tmp_df = train_data_cleared[train_data_cleared['Fare'].astype(int) <= 100]\n",
    "tmp_df[\"Fare_bin\"] = pd.cut(tmp_df['Fare'], bins=20)\n",
    "tmp_df = tmp_df.groupby('Fare_bin')['Survived'].mean()\n",
    "\n",
    "\n",
    "x_labels = list(tmp_df.index)\n",
    "plt.figure(figsize=(12, 4))\n",
    "plt.bar(np.arange(len(tmp_df)), tmp_df)\n",
    "plt.title('Survival rate by fare ranges')\n",
    "plt.xlabel('Fare range')\n",
    "plt.ylabel('Survival ratio')\n",
    "plt.xticks(np.arange(20), x_labels, rotation='vertical')\n",
    "plt.show()"
   ]
  },
  {
   "cell_type": "code",
   "execution_count": 346,
   "metadata": {
    "collapsed": false
   },
   "outputs": [
    {
     "data": {
      "text/plain": [
       "<matplotlib.axes._subplots.AxesSubplot at 0x28b85650e48>"
      ]
     },
     "execution_count": 346,
     "metadata": {},
     "output_type": "execute_result"
    },
    {
     "data": {
      "image/png": "[encoded data removed]",
      "text/plain": [
       "<matplotlib.figure.Figure at 0x28b85bb7d30>"
      ]
     },
     "metadata": {},
     "output_type": "display_data"
    }
   ],
   "source": [
    "# From the results above we can read that survival rate varies but people with lowest/highest fares have \n",
    "# respectively lower/higher survival rates.\n",
    "# Now let's see how survival rate is distributed among sexes.\n",
    "fig, (ax1, ax2, ax3) = plt.subplots(1, 3, figsize=(12, 4))\n",
    "\n",
    "ax1.set_title('Passengers counts by sex')\n",
    "sns.countplot(train_data_cleared['Sex'], data=train_data_cleared, ax=ax1)\n",
    "\n",
    "ax2.set_title('Survival counts by sex')\n",
    "sns.countplot(x='Sex', data=train_data_cleared, hue='Survived', ax=ax2)\n",
    "\n",
    "ax3.set_title('Survival counts by sex [%]')\n",
    "sex_survival_rates = train_data_cleared[['Sex', 'Survived']].groupby('Sex', as_index=False).mean()\n",
    "sns.barplot(x='Sex', \n",
    "            y='Survived', data=sex_survival_rates, ax=ax3)"
   ]
  },
  {
   "cell_type": "code",
   "execution_count": 347,
   "metadata": {
    "collapsed": true
   },
   "outputs": [],
   "source": [
    "# Well, what can we say, male passengers were more frequent on the ship and they survival ratio\n",
    "# is rather low while slogan \"Women and children first\" is not a joke."
   ]
  },
  {
   "cell_type": "code",
   "execution_count": 348,
   "metadata": {
    "collapsed": false
   },
   "outputs": [
    {
     "data": {
      "text/plain": [
       "53"
      ]
     },
     "execution_count": 348,
     "metadata": {},
     "output_type": "execute_result"
    }
   ],
   "source": [
    "# The time has come to finally deal with our last column containing missing values: 'Age'\n",
    "# and after that analyse it.\n",
    "# After looking into a data we can find some pattern in 'Name' column - males up to 13-15yo are called\n",
    "# Master instead of Mr.\n",
    "# We can use it and replace missing age values using that information, unfortunetely there is\n",
    "# no such pattern in case o females, or something that could help us in case of older men.\n",
    "# In that cases we will simply use mean (eventually with some addidion of random number from 0 up to std).\n",
    "\n",
    "master_df = train_data_cleared[train_data_cleared['Name'].str.contains('Master|master')]['Age']\n",
    "master_mean = master_df.mean()\n",
    "master_null_count = train_data_cleared[(train_data_cleared['Name'].str.contains('Master|master')) & \n",
    "                                 (train_data_cleared['Age'].isnull())].shape[0]\n",
    "\n",
    "#Well, master_null_count is only 4 but it is still something that need to be dealt with.\n",
    "\n",
    "#rand_nums_master = [master_mean for i in range(0, master_null_count)]\n",
    "train_data_cleared.loc[(train_data_cleared['Name'].str.contains('Master|master')) & \n",
    "                                 (train_data_cleared['Age'].isnull()), 'Age'] = master_mean\n",
    "\n",
    "# Ok, now let's get the job (simplified, just using mean for each sex) done for the other men and women.\n",
    "adult_men_df = train_data_cleared[(train_data_cleared['Sex'] == 'male') &\n",
    "                                    ~(train_data_cleared['Name'].str.contains('Master|master'))][\"Age\"]\n",
    "\n",
    "adult_men_mean = adult_men_df.mean()\n",
    "train_data_cleared.loc[(train_data_cleared['Sex'] == 'male') &\n",
    "                                    ~(train_data_cleared['Name'].str.contains('Master|master')\n",
    "                                     ) & (train_data_cleared['Age'].isnull()), 'Age'] =  adult_men_mean\n",
    "\n",
    "train_data_cleared[(train_data_cleared['Age'].isnull())].shape[0] # just a check of remaining nulls"
   ]
  },
  {
   "cell_type": "code",
   "execution_count": 349,
   "metadata": {
    "collapsed": true
   },
   "outputs": [],
   "source": [
    "# Firstly, I wanted to replace the missing values using random numbers and mean/std, but\n",
    "# in the end just ordinary mean was used.\n",
    "# Women missing ages still needs to treated and the method will be the same."
   ]
  },
  {
   "cell_type": "code",
   "execution_count": 350,
   "metadata": {
    "collapsed": false
   },
   "outputs": [
    {
     "data": {
      "text/plain": [
       "<matplotlib.axes._subplots.AxesSubplot at 0x28b85422e10>"
      ]
     },
     "execution_count": 350,
     "metadata": {},
     "output_type": "execute_result"
    },
    {
     "data": {
      "image/png": "[encoded data removed]",
      "text/plain": [
       "<matplotlib.figure.Figure at 0x28b871a0cf8>"
      ]
     },
     "metadata": {},
     "output_type": "display_data"
    }
   ],
   "source": [
    "women_mean = train_data_cleared.loc[(train_data_cleared['Sex'] == 'female'), 'Age'].mean()\n",
    "train_data_cleared.loc[(train_data_cleared['Age'].isnull()), 'Age'] = women_mean\n",
    "\n",
    "# Done, we can visualize it age distribution now.\n",
    "fig, ax1 = plt.subplots(1, 1, figsize=(12,4))\n",
    "train_data_cleared['Age'].hist(bins=60, ax=ax1)"
   ]
  },
  {
   "cell_type": "code",
   "execution_count": 351,
   "metadata": {
    "collapsed": false
   },
   "outputs": [
    {
     "data": {
      "text/plain": [
       "<matplotlib.axes._subplots.AxesSubplot at 0x28b873f0358>"
      ]
     },
     "execution_count": 351,
     "metadata": {},
     "output_type": "execute_result"
    },
    {
     "data": {
      "image/png": "[encoded data removed]",
      "text/plain": [
       "<matplotlib.figure.Figure at 0x28b85936cf8>"
      ]
     },
     "metadata": {},
     "output_type": "display_data"
    }
   ],
   "source": [
    "# The two highest bars are for sure inflated - as a result of replacing nulls with mean.\n",
    "# How does survival rates look in different age groups?\n",
    "# To get the better idea I will try to show both survival rate and counts, actually we can use\n",
    "# bins with size of 1 year.\n",
    "\n",
    "train_data_cleared['Age'] = train_data_cleared['Age'].astype(int)\n",
    "fig, (ax1, ax2) = plt.subplots(2, 1, figsize=(14, 20))\n",
    "sns.countplot(x=train_data_cleared['Age'], ax=ax1)\n",
    "sns.barplot(x='Age', y='Survived', data=train_data_cleared[['Age', 'Survived']].groupby(\n",
    "    'Age', as_index=False).mean())"
   ]
  },
  {
   "cell_type": "code",
   "execution_count": 352,
   "metadata": {
    "collapsed": true
   },
   "outputs": [],
   "source": [
    "# We can see that the left side of our age/mean(survival) plot, survival rates are quite good,\n",
    "# and higher than average.\n",
    "# On the first look survival rates of old pesengers seemed good, but after a moment I saw that\n",
    "# area with zero surival rate.\n",
    "# The reason is of such 0 or 100% distribution of survival in the group of elders is\n",
    "# probably the fact , that this group is rather small and 2-3 persons are sometimes all in bin \n",
    "# The children group on the other hand has greater quantity and may be worth to be treated specially\n",
    "# in some way (separate column? rather not, better idea might be to distinquish it in 'Sex' \n",
    "# column as child)"
   ]
  },
  {
   "cell_type": "code",
   "execution_count": 353,
   "metadata": {
    "collapsed": false
   },
   "outputs": [
    {
     "data": {
      "text/html": [
       "<div>\n",
       "<table border=\"1\" class=\"dataframe\">\n",
       "  <thead>\n",
       "    <tr style=\"text-align: right;\">\n",
       "      <th></th>\n",
       "      <th>Survived</th>\n",
       "      <th>Pclass</th>\n",
       "      <th>Sex</th>\n",
       "      <th>Age</th>\n",
       "      <th>SibSp</th>\n",
       "      <th>Parch</th>\n",
       "      <th>Fare</th>\n",
       "      <th>Embarked</th>\n",
       "    </tr>\n",
       "  </thead>\n",
       "  <tbody>\n",
       "    <tr>\n",
       "      <th>0</th>\n",
       "      <td>0</td>\n",
       "      <td>3</td>\n",
       "      <td>male</td>\n",
       "      <td>22</td>\n",
       "      <td>1</td>\n",
       "      <td>0</td>\n",
       "      <td>7.2500</td>\n",
       "      <td>S</td>\n",
       "    </tr>\n",
       "    <tr>\n",
       "      <th>1</th>\n",
       "      <td>1</td>\n",
       "      <td>1</td>\n",
       "      <td>female</td>\n",
       "      <td>38</td>\n",
       "      <td>1</td>\n",
       "      <td>0</td>\n",
       "      <td>71.2833</td>\n",
       "      <td>C</td>\n",
       "    </tr>\n",
       "    <tr>\n",
       "      <th>2</th>\n",
       "      <td>1</td>\n",
       "      <td>3</td>\n",
       "      <td>female</td>\n",
       "      <td>26</td>\n",
       "      <td>0</td>\n",
       "      <td>0</td>\n",
       "      <td>7.9250</td>\n",
       "      <td>S</td>\n",
       "    </tr>\n",
       "    <tr>\n",
       "      <th>3</th>\n",
       "      <td>1</td>\n",
       "      <td>1</td>\n",
       "      <td>female</td>\n",
       "      <td>35</td>\n",
       "      <td>1</td>\n",
       "      <td>0</td>\n",
       "      <td>53.1000</td>\n",
       "      <td>S</td>\n",
       "    </tr>\n",
       "    <tr>\n",
       "      <th>4</th>\n",
       "      <td>0</td>\n",
       "      <td>3</td>\n",
       "      <td>male</td>\n",
       "      <td>35</td>\n",
       "      <td>0</td>\n",
       "      <td>0</td>\n",
       "      <td>8.0500</td>\n",
       "      <td>S</td>\n",
       "    </tr>\n",
       "  </tbody>\n",
       "</table>\n",
       "</div>"
      ],
      "text/plain": [
       "   Survived  Pclass     Sex  Age  SibSp  Parch     Fare Embarked\n",
       "0         0       3    male   22      1      0   7.2500        S\n",
       "1         1       1  female   38      1      0  71.2833        C\n",
       "2         1       3  female   26      0      0   7.9250        S\n",
       "3         1       1  female   35      1      0  53.1000        S\n",
       "4         0       3    male   35      0      0   8.0500        S"
      ]
     },
     "execution_count": 353,
     "metadata": {},
     "output_type": "execute_result"
    }
   ],
   "source": [
    "def get_new_sex(data): \n",
    "    sex, age = data\n",
    "    return 'child' if age <= 15 else sex\n",
    "\n",
    "train_data_cleared.loc[:,'Sex'] = train_data_cleared[['Sex', 'Age']].apply(get_new_sex,\n",
    "    axis=1)\n",
    "\n",
    "# Well, child is not actually a sex, but I have no idea how to name it.\n",
    "# Now, after we have dealt with age we can get rid of now unnecessary 'Name' column.\n",
    "train_data_cleared = train_data_cleared.drop('Name', 1)\n",
    "train_data_cleared.head(5)"
   ]
  },
  {
   "cell_type": "code",
   "execution_count": 354,
   "metadata": {
    "collapsed": false
   },
   "outputs": [
    {
     "data": {
      "text/plain": [
       "'\\nsibsp: The dataset defines family relations in this way...\\nSibling = brother, sister, stepbrother, stepsister\\nSpouse = husband, wife (mistresses and fiancés were ignored)\\n\\nparch: The dataset defines family relations in this way...\\nParent = mother, father\\nChild = daughter, son, stepdaughter, stepson\\nSome children travelled only with a nanny, therefore parch=0 for them.\\n'"
      ]
     },
     "execution_count": 354,
     "metadata": {},
     "output_type": "execute_result"
    }
   ],
   "source": [
    "# Last thing to deal with are columns SibSp and Parch - according to introduction they are respectively:\n",
    "'''\n",
    "sibsp: The dataset defines family relations in this way...\n",
    "Sibling = brother, sister, stepbrother, stepsister\n",
    "Spouse = husband, wife (mistresses and fiancés were ignored)\n",
    "\n",
    "parch: The dataset defines family relations in this way...\n",
    "Parent = mother, father\n",
    "Child = daughter, son, stepdaughter, stepson\n",
    "Some children travelled only with a nanny, therefore parch=0 for them.\n",
    "'''\n",
    "# I would like to first simplify this to one column - as number of family_members onboard."
   ]
  },
  {
   "cell_type": "code",
   "execution_count": 355,
   "metadata": {
    "collapsed": true
   },
   "outputs": [],
   "source": [
    "train_data_cleared['FamMembers'] = train_data_cleared['SibSp'] + train_data_cleared['Parch']\n",
    "train_data_cleared = train_data_cleared.drop(['SibSp', 'Parch'], axis=1)"
   ]
  },
  {
   "cell_type": "code",
   "execution_count": 356,
   "metadata": {
    "collapsed": false
   },
   "outputs": [
    {
     "data": {
      "text/plain": [
       "<matplotlib.axes._subplots.AxesSubplot at 0x28b87e9c0b8>"
      ]
     },
     "execution_count": 356,
     "metadata": {},
     "output_type": "execute_result"
    },
    {
     "data": {
      "image/png": "[encoded data removed]",
      "text/plain": [
       "<matplotlib.figure.Figure at 0x28b87450e10>"
      ]
     },
     "metadata": {},
     "output_type": "display_data"
    }
   ],
   "source": [
    "# Let's see how counts/survival rate of passengers with/without family looks like.\n",
    "\n",
    "fig, (ax1, ax2) = plt.subplots(1, 2, figsize=(12, 4))\n",
    "counts_names = ['With family', 'Without family']\n",
    "with_family = train_data_cleared['FamMembers'] > 0\n",
    "with_family_count = train_data_cleared[with_family].shape[0]\n",
    "without_family_count = train_data_cleared.shape[0] - with_family_count\n",
    "\n",
    "ax1.set_title('With/without family counts')\n",
    "sns.barplot(x=counts_names, y=[with_family_count, without_family_count], ax=ax1)\n",
    "\n",
    "with_survived_cnt = train_data_cleared[(with_family) & (train_data_cleared['Survived'] == 1)].shape[0]\n",
    "without_survived_cnt = train_data_cleared[~(with_family) & (train_data_cleared['Survived'] == 1)].shape[0]\n",
    "\n",
    "ax2.set_title('With/without family survival rate')\n",
    "sns.barplot(x=counts_names, y=[with_survived_cnt / with_family_count,\n",
    "                               without_survived_cnt / without_family_count], ax=ax2)"
   ]
  },
  {
   "cell_type": "code",
   "execution_count": 357,
   "metadata": {
    "collapsed": true
   },
   "outputs": [],
   "source": [
    "# We see that onboard were more people without family - the ones with family have greater survival\n",
    "# rates. \n",
    "# Does higher number of family members onboard positively/negatively affect survival rate?"
   ]
  },
  {
   "cell_type": "code",
   "execution_count": 358,
   "metadata": {
    "collapsed": false
   },
   "outputs": [
    {
     "data": {
      "text/plain": [
       "<matplotlib.axes._subplots.AxesSubplot at 0x28b8793bb70>"
      ]
     },
     "execution_count": 358,
     "metadata": {},
     "output_type": "execute_result"
    },
    {
     "data": {
      "image/png": "[encoded data removed]",
      "text/plain": [
       "<matplotlib.figure.Figure at 0x28b878d6b38>"
      ]
     },
     "metadata": {},
     "output_type": "display_data"
    }
   ],
   "source": [
    "fam_mem_numbers = list(np.arange(0, max(train_data_cleared['FamMembers']) + 1, 1))\n",
    "\n",
    "survival_rates = []\n",
    "total_counts = []\n",
    "to_delete = []\n",
    "for num in fam_mem_numbers:\n",
    "    total_count = train_data_cleared[train_data_cleared['FamMembers'] == num].shape[0]\n",
    "    survived_count = train_data_cleared[(train_data_cleared['FamMembers'] == num) & \n",
    "                                       (train_data_cleared['Survived'] == 1)].shape[0]\n",
    "    if total_count != 0:\n",
    "        sur_rate = survived_count / total_count\n",
    "        survival_rates.append(sur_rate)\n",
    "        total_counts.append(total_count)\n",
    "    else:\n",
    "        to_delete.append(num)\n",
    "\n",
    "for item in to_delete:\n",
    "    fam_mem_numbers.remove(item)\n",
    "        \n",
    "fig, (ax1, ax2) = plt.subplots(1, 2, figsize=(12, 6))\n",
    "ax1.set_title('Family members counts')\n",
    "sns.barplot(x=fam_mem_numbers, y=total_counts, ax=ax1)\n",
    "ax2.set_title('Family members - Survival rate relation')\n",
    "sns.barplot(x=fam_mem_numbers, y=survival_rates, ax=ax2)"
   ]
  },
  {
   "cell_type": "code",
   "execution_count": 359,
   "metadata": {
    "collapsed": true
   },
   "outputs": [],
   "source": [
    "# We can see that to some extent the greater amount of family onboard - the greater survival chances\n",
    "# But at some point (but this data is a bit uncertain due to low amount of samples) chances drop down\n",
    "# suddenly and are affected rather negatively.\n",
    "# I'm uncertain about leaving it the way it is and bringing it to 0/1 for not having/having\n",
    "# family on board.\n",
    "# After all we will give it a shot as it is."
   ]
  },
  {
   "cell_type": "code",
   "execution_count": 360,
   "metadata": {
    "collapsed": true
   },
   "outputs": [],
   "source": [
    "# For now everything is analysed/visualized and prepared/cleaned - in case of train dataset, in \n",
    "# next few cells test dataset will proccesed the same way."
   ]
  },
  {
   "cell_type": "code",
   "execution_count": 361,
   "metadata": {
    "collapsed": false
   },
   "outputs": [
    {
     "name": "stdout",
     "output_type": "stream",
     "text": [
      "<class 'pandas.core.frame.DataFrame'>\n",
      "RangeIndex: 418 entries, 0 to 417\n",
      "Data columns (total 11 columns):\n",
      "PassengerId    418 non-null int64\n",
      "Pclass         418 non-null int64\n",
      "Name           418 non-null object\n",
      "Sex            418 non-null object\n",
      "Age            332 non-null float64\n",
      "SibSp          418 non-null int64\n",
      "Parch          418 non-null int64\n",
      "Ticket         418 non-null object\n",
      "Fare           417 non-null float64\n",
      "Cabin          91 non-null object\n",
      "Embarked       418 non-null object\n",
      "dtypes: float64(2), int64(4), object(5)\n",
      "memory usage: 36.0+ KB\n"
     ]
    }
   ],
   "source": [
    "test_data.info()"
   ]
  },
  {
   "cell_type": "code",
   "execution_count": 362,
   "metadata": {
    "collapsed": false
   },
   "outputs": [
    {
     "name": "stdout",
     "output_type": "stream",
     "text": [
      "<class 'pandas.core.frame.DataFrame'>\n",
      "RangeIndex: 418 entries, 0 to 417\n",
      "Data columns (total 6 columns):\n",
      "Pclass        418 non-null int64\n",
      "Sex           418 non-null object\n",
      "Age           418 non-null int32\n",
      "Fare          418 non-null float64\n",
      "Embarked      418 non-null object\n",
      "FamMembers    418 non-null int64\n",
      "dtypes: float64(1), int32(1), int64(2), object(2)\n",
      "memory usage: 18.0+ KB\n",
      "<class 'pandas.core.frame.DataFrame'>\n",
      "RangeIndex: 891 entries, 0 to 890\n",
      "Data columns (total 7 columns):\n",
      "Survived      891 non-null int64\n",
      "Pclass        891 non-null int64\n",
      "Sex           891 non-null object\n",
      "Age           891 non-null int32\n",
      "Fare          891 non-null float64\n",
      "Embarked      891 non-null object\n",
      "FamMembers    891 non-null int64\n",
      "dtypes: float64(1), int32(1), int64(3), object(2)\n",
      "memory usage: 45.3+ KB\n"
     ]
    }
   ],
   "source": [
    "test_data_cleared = test_data.drop(['Ticket', 'Cabin'], axis=1)\n",
    "\n",
    "# Handling missing (only one) fare value - that passenger travel in class 3 and median of this class will be used\n",
    "test_data_cleared.loc[test_data['Fare'].isnull(), 'Fare'] = test_data[\n",
    "    test_data['Pclass'] == 3]['Fare'].median()\n",
    "\n",
    "# Family members\n",
    "test_data_cleared['FamMembers'] = test_data_cleared['SibSp'] + test_data_cleared['Parch']\n",
    "test_data_cleared.drop(['SibSp', 'Parch'], axis=1, inplace=True)\n",
    "\n",
    "# All operations related to age\n",
    "master_mean = test_data_cleared[(test_data_cleared['Name'].str.contains('Master|master'))]['Age'].mean()\n",
    "adult_men_mean = test_data_cleared[~(test_data_cleared['Name'].str.contains('Master|master'))][\n",
    "    'Age'].mean()\n",
    "women_mean = test_data_cleared[test_data_cleared['Sex'] == 'female']['Age'].mean()\n",
    "\n",
    "test_data_cleared.loc[(test_data_cleared['Sex'] == 'female') & (test_data_cleared['Age'].isnull()),\n",
    "                       'Age'] = women_mean\n",
    "test_data_cleared.loc[test_data_cleared['Name'].str.contains('Master|master') & (\n",
    "    test_data_cleared['Age'].isnull()), 'Age'] = master_mean\n",
    "test_data_cleared.loc[test_data_cleared['Age'].isnull(), 'Age'] = adult_men_mean\n",
    "test_data_cleared['Age'] = test_data_cleared['Age'].astype(int)\n",
    "\n",
    "test_data_cleared.loc[test_data_cleared['Age'] <= 15, 'Sex'] = 'child'\n",
    "\n",
    "# Dropping unnecessary columns (ids kept for future results saving purposes)\n",
    "test_data_pass_ids = test_data_cleared['PassengerId']\n",
    "test_data_cleared.drop(['Name', 'PassengerId'], axis=1, inplace=True)\n",
    "\n",
    "# Correction check up\n",
    "test_data_cleared.info()\n",
    "train_data_cleared.info()"
   ]
  },
  {
   "cell_type": "code",
   "execution_count": 363,
   "metadata": {
    "collapsed": true
   },
   "outputs": [],
   "source": [
    "# Now it is time to get data ready for actual ML."
   ]
  },
  {
   "cell_type": "code",
   "execution_count": 364,
   "metadata": {
    "collapsed": true
   },
   "outputs": [],
   "source": [
    "# There is one more thing to do - we need to get rid of string values (columns 'Sex'\n",
    "# and 'Embarked'), as scikit does not allow them and works only on floats.\n",
    "# As it is categorical data we need to do encoding properly (one of k) and be careful\n",
    "# to avoid 'Dummy Variable trap' (although scikit would handle it eventually by itself\n",
    "# as far as I know)"
   ]
  },
  {
   "cell_type": "code",
   "execution_count": 365,
   "metadata": {
    "collapsed": false
   },
   "outputs": [],
   "source": [
    "# Getting data in form of numpy array\n",
    "train_data = train_data_cleared.as_matrix()\n",
    "test_data = test_data_cleared.as_matrix()\n",
    "train_correct = train_data[:, 0]\n",
    "train_data = train_data[:, 1:]"
   ]
  },
  {
   "cell_type": "code",
   "execution_count": 366,
   "metadata": {
    "collapsed": false
   },
   "outputs": [],
   "source": [
    "# Encoding categorical data\n",
    "from sklearn.preprocessing import LabelEncoder, OneHotEncoder\n",
    "labelencoder = LabelEncoder()\n",
    "train_data[:, 1] = labelencoder.fit_transform(train_data[:, 1])\n",
    "test_data[:, 1] = labelencoder.transform(test_data[:, 1])\n",
    "\n",
    "labelencoder = LabelEncoder()\n",
    "train_data[:, 4] = labelencoder.fit_transform(train_data[:, 4])\n",
    "test_data[:, 4] = labelencoder.transform(test_data[:, 4])"
   ]
  },
  {
   "cell_type": "code",
   "execution_count": 367,
   "metadata": {
    "collapsed": true
   },
   "outputs": [],
   "source": [
    "# Of course now we have a situation in which our model will treat city encoded by 3 as more significant\n",
    "# than city encoded by 2 - which is wrong and need to by dealt with.\n",
    "# We will use one hot encoding to prevent that."
   ]
  },
  {
   "cell_type": "code",
   "execution_count": 368,
   "metadata": {
    "collapsed": false
   },
   "outputs": [],
   "source": [
    "onehotencoder = OneHotEncoder(categorical_features = [1])\n",
    "train_data = onehotencoder.fit_transform(train_data).toarray()\n",
    "test_data = onehotencoder.transform(test_data).toarray()\n",
    "\n",
    "# We should remember about dummy variable trap - the fact that array \n",
    "# after transforming by one hot encoder returns newly encoded columns \n",
    "# as a first columns makes it quite comfortable to handle.\n",
    "\n",
    "train_data = train_data[:, 1:]\n",
    "test_data = test_data[:, 1:]\n",
    "\n",
    "# Analogical operations for 'Embarked' column\n",
    "onehotencoder = OneHotEncoder(categorical_features = [5])\n",
    "train_data = onehotencoder.fit_transform(train_data).toarray()\n",
    "test_data = onehotencoder.transform(test_data).toarray()\n",
    "\n",
    "train_data = train_data[:, 1:]\n",
    "test_data = test_data[:, 1:]\n",
    "\n",
    "# And lastly 'pclass column\n",
    "onehotencoder = OneHotEncoder(categorical_features = [4])\n",
    "train_data = onehotencoder.fit_transform(train_data).toarray()\n",
    "test_data = onehotencoder.transform(test_data).toarray()\n",
    "\n",
    "train_data = train_data[:, 1:]\n",
    "test_data = test_data[:, 1:]"
   ]
  },
  {
   "cell_type": "code",
   "execution_count": 369,
   "metadata": {
    "collapsed": false
   },
   "outputs": [],
   "source": [
    "# Preparing finally done.\n",
    "# Now I will split train dataset into train/test set and test it against some models,\n",
    "# depending on results I will pick the best, then train it again with all my data and use\n",
    "# it on final test set from test.csv.\n",
    "from sklearn.model_selection import train_test_split\n",
    "\n",
    "X_train, X_test, Y_train, Y_test = train_test_split(train_data, \n",
    "                                                   train_correct, test_size=0.17,\n",
    "                                                   random_state=0)\n",
    "\n",
    "# Lastly - there was an error in later sections caused by 'object' data type of \n",
    "# observations labels, so I will convert it here\n",
    "Y_train = Y_train.astype(int)\n",
    "Y_test = Y_test.astype(int)"
   ]
  },
  {
   "cell_type": "code",
   "execution_count": 370,
   "metadata": {
    "collapsed": true
   },
   "outputs": [],
   "source": [
    "# Like I mentioned I'm a rather a novice myself so I will test as many models as posible (mainly just out of curiosity).\n",
    "from sklearn.linear_model import LogisticRegression\n",
    "from sklearn.svm import SVC, LinearSVC\n",
    "from sklearn.naive_bayes import GaussianNB\n",
    "from sklearn.neighbors import KNeighborsClassifier\n",
    "from sklearn.tree import DecisionTreeClassifier\n",
    "from sklearn.ensemble import RandomForestClassifier"
   ]
  },
  {
   "cell_type": "code",
   "execution_count": 371,
   "metadata": {
    "collapsed": false
   },
   "outputs": [
    {
     "data": {
      "text/plain": [
       "0.82894736842105265"
      ]
     },
     "execution_count": 371,
     "metadata": {},
     "output_type": "execute_result"
    }
   ],
   "source": [
    "# Logisitic Regression\n",
    "logistic_regression = LogisticRegression()\n",
    "logistic_regression.fit(X_train, Y_train)\n",
    "logistic_regression.score(X_test, Y_test)"
   ]
  },
  {
   "cell_type": "code",
   "execution_count": 372,
   "metadata": {
    "collapsed": false
   },
   "outputs": [],
   "source": [
    "# We gotpredictions from first model ~83% of accuracy which is quite good but could be better.\n",
    "# (Well, it's deinitely exceeds a monkey that choses randomly ^^)\n",
    "# But let's test out other algorithms and models."
   ]
  },
  {
   "cell_type": "code",
   "execution_count": 373,
   "metadata": {
    "collapsed": false
   },
   "outputs": [
    {
     "data": {
      "text/plain": [
       "0.73026315789473684"
      ]
     },
     "execution_count": 373,
     "metadata": {},
     "output_type": "execute_result"
    }
   ],
   "source": [
    "# SVC\n",
    "svc = SVC()\n",
    "svc.fit(X_train, Y_train)\n",
    "svc.score(X_test, Y_test)"
   ]
  },
  {
   "cell_type": "code",
   "execution_count": 374,
   "metadata": {
    "collapsed": false
   },
   "outputs": [
    {
     "data": {
      "text/plain": [
       "0.82894736842105265"
      ]
     },
     "execution_count": 374,
     "metadata": {},
     "output_type": "execute_result"
    }
   ],
   "source": [
    "# linear SVC\n",
    "linear_svc = LinearSVC()\n",
    "linear_svc.fit(X_train, Y_train)\n",
    "linear_svc.score(X_test, Y_test)"
   ]
  },
  {
   "cell_type": "code",
   "execution_count": 375,
   "metadata": {
    "collapsed": true
   },
   "outputs": [],
   "source": [
    "# Support Vector Classification gives worse results, but let's move on."
   ]
  },
  {
   "cell_type": "code",
   "execution_count": 376,
   "metadata": {
    "collapsed": false
   },
   "outputs": [
    {
     "data": {
      "text/plain": [
       "0.82894736842105265"
      ]
     },
     "execution_count": 376,
     "metadata": {},
     "output_type": "execute_result"
    }
   ],
   "source": [
    "# Gaussian Naive Bayes\n",
    "gaussian_NB = GaussianNB()\n",
    "gaussian_NB.fit(X_train, Y_train)\n",
    "gaussian_NB.score(X_test, Y_test)"
   ]
  },
  {
   "cell_type": "code",
   "execution_count": 377,
   "metadata": {
    "collapsed": false
   },
   "outputs": [
    {
     "data": {
      "text/plain": [
       "0.73026315789473684"
      ]
     },
     "execution_count": 377,
     "metadata": {},
     "output_type": "execute_result"
    }
   ],
   "source": [
    "# K nearest neighbors\n",
    "knn_classifier = KNeighborsClassifier()\n",
    "knn_classifier.fit(X_train, Y_train)\n",
    "knn_classifier.score(X_test, Y_test)"
   ]
  },
  {
   "cell_type": "code",
   "execution_count": 378,
   "metadata": {
    "collapsed": false
   },
   "outputs": [
    {
     "data": {
      "text/plain": [
       "0.80921052631578949"
      ]
     },
     "execution_count": 378,
     "metadata": {},
     "output_type": "execute_result"
    }
   ],
   "source": [
    "# Deision Tree\n",
    "dtree_classifier = DecisionTreeClassifier()\n",
    "dtree_classifier.fit(X_train, Y_train)\n",
    "dtree_classifier.score(X_test, Y_test)"
   ]
  },
  {
   "cell_type": "code",
   "execution_count": 379,
   "metadata": {
    "collapsed": false
   },
   "outputs": [
    {
     "data": {
      "text/plain": [
       "0.86184210526315785"
      ]
     },
     "execution_count": 379,
     "metadata": {},
     "output_type": "execute_result"
    }
   ],
   "source": [
    "# And last but not least, classifier that will probably have the best output.\n",
    "# Random Forest\n",
    "rand_forest_classifier = RandomForestClassifier(n_estimators=200)\n",
    "rand_forest_classifier.fit(X_train, Y_train)\n",
    "rand_forest_classifier.score(X_test, Y_test)"
   ]
  },
  {
   "cell_type": "code",
   "execution_count": 380,
   "metadata": {
    "collapsed": true
   },
   "outputs": [],
   "source": [
    "# Well, around 84-85%, which is not so bad I think.\n",
    "# (and definitely better that mentioned earlier monkey ^^)"
   ]
  },
  {
   "cell_type": "code",
   "execution_count": 381,
   "metadata": {
    "collapsed": false
   },
   "outputs": [
    {
     "data": {
      "text/plain": [
       "array([0, 0, 0, 1, 1, 0, 0, 0, 1, 0, 0, 0, 1, 0, 1, 1, 0, 1, 0, 0, 0, 0, 1,\n",
       "       1, 1, 0, 1, 1, 1, 0, 0, 0, 1, 0, 1, 1, 0, 0, 0, 1, 0, 0, 0, 1, 1, 0,\n",
       "       0, 0, 1, 1, 0, 0, 1, 1, 0, 0, 0, 0, 0, 1, 0, 1, 0, 1, 1, 1, 1, 0, 0,\n",
       "       1, 1, 0, 0, 0, 1, 0, 0, 1, 0, 1, 1, 0, 0, 0, 0, 0, 1, 0, 0, 1, 0, 0,\n",
       "       1, 0, 0, 0, 1, 0, 0, 0, 1, 0, 0, 0, 0, 0, 0, 0, 0, 0, 0, 0, 1, 1, 1,\n",
       "       0, 0, 1, 0, 1, 1, 0, 1, 0, 0, 0, 0, 1, 0, 0, 0, 0, 0, 0, 0, 0, 0, 0,\n",
       "       0, 0, 0, 1, 0, 0, 1, 0, 0, 0, 0, 0, 1, 0, 0, 1, 0, 0, 1, 1, 1, 0, 0,\n",
       "       1, 1, 0, 0, 1, 0, 0, 1, 0, 0, 0, 0, 0, 0, 1, 1, 0, 1, 1, 0, 0, 1, 0,\n",
       "       1, 0, 1, 0, 0, 0, 0, 0, 1, 0, 1, 0, 1, 0, 0, 0, 0, 1, 0, 1, 0, 0, 0,\n",
       "       0, 1, 0, 0, 0, 0, 1, 0, 0, 0, 0, 1, 0, 1, 0, 1, 1, 1, 1, 0, 0, 0, 0,\n",
       "       1, 1, 0, 0, 1, 0, 0, 1, 1, 1, 1, 1, 0, 0, 1, 0, 1, 0, 1, 0, 1, 0, 0,\n",
       "       0, 0, 0, 0, 0, 1, 0, 0, 0, 1, 1, 0, 0, 0, 0, 0, 0, 0, 0, 1, 1, 0, 1,\n",
       "       0, 0, 0, 0, 0, 1, 0, 0, 1, 0, 0, 0, 0, 0, 0, 0, 0, 0, 0, 0, 1, 0, 0,\n",
       "       0, 0, 0, 0, 0, 0, 1, 0, 1, 0, 0, 0, 1, 0, 0, 1, 1, 0, 0, 0, 0, 0, 0,\n",
       "       0, 1, 1, 0, 1, 0, 0, 0, 1, 1, 0, 0, 0, 0, 1, 0, 0, 1, 0, 0, 0, 1, 1,\n",
       "       1, 0, 0, 0, 1, 1, 0, 0, 0, 1, 0, 1, 0, 0, 1, 0, 1, 1, 1, 1, 0, 0, 0,\n",
       "       1, 0, 0, 1, 0, 0, 1, 1, 0, 0, 0, 1, 0, 0, 1, 0, 1, 1, 0, 0, 0, 0, 0,\n",
       "       1, 1, 0, 0, 1, 0, 1, 0, 0, 1, 0, 1, 0, 0, 0, 0, 0, 0, 1, 0, 1, 0, 0,\n",
       "       1, 0, 0, 1])"
      ]
     },
     "execution_count": 381,
     "metadata": {},
     "output_type": "execute_result"
    }
   ],
   "source": [
    "# Time for final results\n",
    "rand_forest_classifier = RandomForestClassifier(n_estimators=200)\n",
    "rand_forest_classifier.fit(train_data, train_correct.astype(int))\n",
    "results = rand_forest_classifier.predict(test_data)\n",
    "results"
   ]
  },
  {
   "cell_type": "code",
   "execution_count": 382,
   "metadata": {
    "collapsed": false
   },
   "outputs": [],
   "source": [
    "# Description says submission should be in PassngerId, Predicted Survival output.\n",
    "results_df = pd.DataFrame({'PassengerId': test_data_pass_ids, 'Survived': results})\n",
    "results_df.to_csv('titanic_results.csv', index=False)"
   ]
  },
  {
   "cell_type": "code",
   "execution_count": 384,
   "metadata": {
    "collapsed": false
   },
   "outputs": [
    {
     "data": {
      "text/plain": [
       "0.86184210526315785"
      ]
     },
     "execution_count": 384,
     "metadata": {},
     "output_type": "execute_result"
    }
   ],
   "source": [
    "# test\n",
    "rand_forest_classifier = RandomForestClassifier(n_estimators=200, max_depth=10)\n",
    "rand_forest_classifier.fit(X_train, Y_train)\n",
    "rand_forest_classifier.score(X_test, Y_test)"
   ]
  },
  {
   "cell_type": "code",
   "execution_count": 385,
   "metadata": {
    "collapsed": false
   },
   "outputs": [
    {
     "name": "stdout",
     "output_type": "stream",
     "text": [
      "Feature ranking:\n",
      "1. feature 5 (0.226984)\n",
      "2. feature 7 (0.226616)\n",
      "3. feature 6 (0.204493)\n",
      "4. feature 4 (0.128984)\n",
      "5. feature 8 (0.088803)\n",
      "6. feature 1 (0.069831)\n",
      "7. feature 3 (0.022731)\n",
      "8. feature 0 (0.019944)\n",
      "9. feature 2 (0.011614)\n"
     ]
    },
    {
     "data": {
      "image/png": "[encoded data removed]",
      "text/plain": [
       "<matplotlib.figure.Figure at 0x28b87bcea58>"
      ]
     },
     "metadata": {},
     "output_type": "display_data"
    }
   ],
   "source": [
    "# Bonus: We have model and predictions already, now out of curiosity a little check of features importance.\n",
    "importances = rand_forest_classifier.feature_importances_\n",
    "std = np.std([tree.feature_importances_ for tree in rand_forest_classifier.estimators_],\n",
    "             axis=0)\n",
    "indices = np.argsort(importances)[::-1]\n",
    "\n",
    "# Print the feature ranking\n",
    "print(\"Feature ranking:\")\n",
    "\n",
    "for f in range(X_train.shape[1]):\n",
    "    print(\"%d. feature %d (%f)\" % (f + 1, indices[f], importances[indices[f]]))\n",
    "# Plot the feature importances of the forest\n",
    "plt.figure()\n",
    "plt.title(\"Feature importances\")\n",
    "plt.bar(range(X_train.shape[1]), importances[indices],\n",
    "       color=\"r\", yerr=std[indices], align=\"center\")\n",
    "plt.xticks(range(X_train.shape[1]), indices)\n",
    "plt.xlim([-1, X_train.shape[1]])\n",
    "plt.show()"
   ]
  }
 ],
 "metadata": {
  "anaconda-cloud": {},
  "kernelspec": {
   "display_name": "Python [default]",
   "language": "python",
   "name": "python3"
  },
  "language_info": {
   "codemirror_mode": {
    "name": "ipython",
    "version": 3
   },
   "file_extension": ".py",
   "mimetype": "text/x-python",
   "name": "python",
   "nbconvert_exporter": "python",
   "pygments_lexer": "ipython3",
   "version": "3.5.2"
  }
 },
 "nbformat": 4,
 "nbformat_minor": 0
}
